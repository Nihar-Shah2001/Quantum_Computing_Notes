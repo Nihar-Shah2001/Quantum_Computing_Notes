{
 "cells": [
  {
   "cell_type": "code",
   "execution_count": 1,
   "metadata": {},
   "outputs": [
    {
     "data": {
      "text/plain": [
       "'0.28.0'"
      ]
     },
     "execution_count": 1,
     "metadata": {},
     "output_type": "execute_result"
    }
   ],
   "source": [
    "import qiskit_ibm_runtime\n",
    "\n",
    "qiskit_ibm_runtime.version.get_version_info()"
   ]
  },
  {
   "cell_type": "code",
   "execution_count": 2,
   "metadata": {},
   "outputs": [
    {
     "data": {
      "text/plain": [
       "'1.2.0'"
      ]
     },
     "execution_count": 2,
     "metadata": {},
     "output_type": "execute_result"
    }
   ],
   "source": [
    "import qiskit\n",
    "\n",
    "qiskit.version.get_version_info()"
   ]
  },
  {
   "cell_type": "code",
   "execution_count": 3,
   "metadata": {},
   "outputs": [],
   "source": [
    "# Built-in modules\n",
    "import math\n",
    "import numpy as np\n",
    "\n",
    "# Imports from Qiskit\n",
    "from qiskit import QuantumCircuit, QuantumRegister, ClassicalRegister\n",
    "from qiskit.circuit.library import GroverOperator, MCMT, ZGate, PhaseEstimation\n",
    "from qiskit.visualization import plot_distribution, plot_histogram\n",
    "from qiskit_aer import AerSimulator\n",
    "from qiskit.transpiler.preset_passmanagers import generate_preset_pass_manager\n",
    "\n",
    "# Imports from Qiskit Runtime\n",
    "from qiskit_ibm_runtime import QiskitRuntimeService\n",
    "from qiskit_ibm_runtime import SamplerV2 as Sampler"
   ]
  },
  {
   "cell_type": "markdown",
   "metadata": {},
   "source": [
    "#### Chosing Backend"
   ]
  },
  {
   "cell_type": "code",
   "execution_count": 4,
   "metadata": {},
   "outputs": [
    {
     "data": {
      "text/plain": [
       "'aer_simulator'"
      ]
     },
     "execution_count": 4,
     "metadata": {},
     "output_type": "execute_result"
    }
   ],
   "source": [
    "# To run on hardware, select the backend with the fewest number of jobs in the queue\n",
    "service = QiskitRuntimeService(channel=\"ibm_quantum\")\n",
    "# backend = service.least_busy(operational=True, simulator=False)\n",
    "backend = AerSimulator()\n",
    "backend.name"
   ]
  },
  {
   "cell_type": "code",
   "execution_count": 5,
   "metadata": {},
   "outputs": [],
   "source": [
    "def order_finding_classical(a, N):\n",
    "        if (a < 1) or (a >= N) or (N <= 1):\n",
    "            raise ValueError(\"The integer a must be in the range 1 <= a <= N-1 and N must be greater than 1.\")\n",
    "        if math.gcd(a, N) != 1:\n",
    "            raise ValueError(\"The integer a must be coprime with N.\")\n",
    "        \n",
    "        def mod_exp(base, exp, mod):\n",
    "            result = 1\n",
    "            while exp > 0:\n",
    "                if exp % 2 == 1:\n",
    "                    result = (result * base) % mod\n",
    "                base = (base * base) % mod\n",
    "                exp //= 2\n",
    "            return result\n",
    "        \n",
    "        r = 1\n",
    "        while mod_exp(a, r, N) != 1:\n",
    "            r += 1\n",
    "        return r"
   ]
  },
  {
   "cell_type": "code",
   "execution_count": null,
   "metadata": {},
   "outputs": [],
   "source": [
    "def c_amod15(a):\n",
    "    \"\"\"\n",
    "    Controlled multiplication by a mod 15.\n",
    "    This is hard-coded for simplicity.\n",
    "    \"\"\"\n",
    "    if a not in [2, 4, 7, 8, 11, 13]:\n",
    "        raise ValueError(\"'a' must not have common factors with 15\")\n",
    "    U = QuantumCircuit(4)\n",
    "    if a in [2, 13]:\n",
    "        U.swap(2, 3)\n",
    "        U.swap(1, 2)\n",
    "        U.swap(0, 1)\n",
    "    if a in [7, 8]:\n",
    "        U.swap(0, 1)\n",
    "        U.swap(1, 2)\n",
    "        U.swap(2, 3)\n",
    "    if a in [4, 11]:\n",
    "        U.swap(1, 3)\n",
    "        U.swap(0, 2)\n",
    "    if a in [7, 11, 13]:\n",
    "        for q in range(4):\n",
    "            U.x(q)\n",
    "    U = U.to_gate()\n",
    "    U.name = f\"{a} mod 15\"\n",
    "    c_U = U.control()\n",
    "    return c_U"
   ]
  },
  {
   "cell_type": "code",
   "execution_count": 61,
   "metadata": {},
   "outputs": [],
   "source": [
    " def c_amod15(a):\n",
    "        \"\"\"\n",
    "        Controlled multiplication by a mod 15.\n",
    "        This is hard-coded for simplicity.\n",
    "        \"\"\"\n",
    "        if a not in [2, 4, 7, 8, 11, 13]:\n",
    "            raise ValueError(\"'a' must not have common factors with 15\")\n",
    "        U = QuantumCircuit(4)\n",
    "        if a in [2, 13]:\n",
    "            U.swap(2, 3)\n",
    "            U.swap(1, 2)\n",
    "            U.swap(0, 1)\n",
    "        if a in [7, 8]:\n",
    "            U.swap(0, 1)\n",
    "            U.swap(1, 2)\n",
    "            U.swap(2, 3)\n",
    "        if a in [4, 11]:\n",
    "            U.swap(1, 3)\n",
    "            U.swap(0, 2)\n",
    "        if a in [7, 11, 13]:\n",
    "            for q in range(4):\n",
    "                U.x(q)\n",
    "        U = U.to_gate()\n",
    "        U.name = f\"{a} mod 15\"\n",
    "        c_U = U.control()\n",
    "        return c_U"
   ]
  },
  {
   "cell_type": "code",
   "execution_count": 93,
   "metadata": {},
   "outputs": [],
   "source": [
    "def order_finding_quantum(a,N, epsilon=0.4,shots=1000):\n",
    "    num_qubits = math.ceil(math.log2(N))\n",
    "    epsilon=0.4\n",
    "\n",
    "    def c_amod15(a):\n",
    "        \"\"\"\n",
    "        Controlled multiplication by a mod 15.\n",
    "        This is hard-coded for simplicity.\n",
    "        \"\"\"\n",
    "        if a not in [2, 4, 7, 8, 11, 13]:\n",
    "            raise ValueError(\"'a' must not have common factors with 15\")\n",
    "        U = QuantumCircuit(4)\n",
    "        if a in [2, 13]:\n",
    "            U.swap(2, 3)\n",
    "            U.swap(1, 2)\n",
    "            U.swap(0, 1)\n",
    "        if a in [7, 8]:\n",
    "            U.swap(0, 1)\n",
    "            U.swap(1, 2)\n",
    "            U.swap(2, 3)\n",
    "        if a in [4, 11]:\n",
    "            U.swap(1, 3)\n",
    "            U.swap(0, 2)\n",
    "        if a in [7, 11, 13]:\n",
    "            for q in range(4):\n",
    "                U.x(q)\n",
    "        U = U.to_gate()\n",
    "        U.name = f\"{a} mod 15\"\n",
    "        c_U = U.control()\n",
    "        return c_U\n",
    "\n",
    "    # Create QuantumCircuit\n",
    "    num_evaluation_bits = 2*num_qubits + 1 + math.ceil(math.log2(2+(1/(2*epsilon))))\n",
    "    qbits = QuantumRegister(num_qubits + num_evaluation_bits +1, name='qbits')\n",
    "    cbits=ClassicalRegister(num_evaluation_bits,name='cbits')\n",
    "    qc = QuantumCircuit(qbits,cbits,name='qc')\n",
    "    qc.compose(PhaseEstimation(num_evaluation_bits, unitary=c_amod15(a)), inplace=True)\n",
    "    qc.measure(range(num_evaluation_bits),cbits)\n",
    "\n",
    "    target = backend.target\n",
    "\n",
    "    pm = generate_preset_pass_manager(target=target, optimization_level=1)\n",
    "\n",
    "    circuit_isa = pm.run(qc)\n",
    "    # circuit_isa.draw(output=\"mpl\", idle_wires=False, style=\"iqp\")\n",
    "\n",
    "    sampler = Sampler(mode=backend)\n",
    "    sampler.options.default_shots = 1000\n",
    "    result = sampler.run([circuit_isa]).result()\n",
    "    dist = result[0].data.cbits.get_counts()\n",
    "    return dist"
   ]
  },
  {
   "cell_type": "code",
   "execution_count": null,
   "metadata": {},
   "outputs": [],
   "source": [
    "qu = order_finding_quantum(7,15)\n",
    "plot_distribution(qu)"
   ]
  },
  {
   "cell_type": "code",
   "execution_count": null,
   "metadata": {},
   "outputs": [],
   "source": [
    "def Shor(N):\n",
    "    # Check if $N$ is even\n",
    "    factors={}\n",
    "    while N%2==0:\n",
    "        if 2 not in factors:\n",
    "            factors[2]=0\n",
    "        factors[2]+=1\n",
    "        N=N//2\n",
    "\n",
    "    if N!=1:\n",
    "        log2n=math.log2(N)\n",
    "\n",
    "        for b in range(2,math.floor(log2n)+1):\n",
    "            x=log2n/b\n",
    "            \n",
    "            u_1=math.floor(2**x)\n",
    "            u_2=math.ceil(2**x)\n",
    "            if u_1**b==N:\n",
    "                factors[u_1]=b\n",
    "                N=N//(u_1**b)\n",
    "                break\n",
    "            elif u_2**b==N:\n",
    "                factors[u_2]=b\n",
    "                N=N//(u_2**b)\n",
    "                break\n",
    "            else:\n",
    "                continue\n",
    "\n",
    "    if N!=1:\n",
    "        while N!=1:\n",
    "            a = np.random.randint(1,N)\n",
    "\n",
    "            if (math.gcd(a,N))!=1:\n",
    "                p = math.gcd(a,N)\n",
    "                q = N//p\n",
    "                if p not in factors:\n",
    "                    factors[p]=0\n",
    "                    N=N//p\n",
    "                factors[p]+=1\n",
    "                if q not in factors:\n",
    "                    factors[q]=0\n",
    "                    N=N//q\n",
    "                factors[q]+=1\n",
    "            else:\n",
    "                if (N==21):\n",
    "                    r = order_finding_classical(a,N)\n",
    "                # else:\n",
    "                #     r=order_finding_quantum(a,N)\n",
    "                if r%2==0:\n",
    "                    p = math.gcd(a**int(r/2)+1,N)\n",
    "                    q = math.gcd(a**int(r/2)-1,N)\n",
    "                    if p not in factors:\n",
    "                        factors[p]=0\n",
    "                        N=N//p\n",
    "                    factors[p]+=1\n",
    "                    if q not in factors:\n",
    "                        factors[q]=0\n",
    "                    N=N//q\n",
    "                    factors[q]+=1\n",
    "    return factors"
   ]
  },
  {
   "cell_type": "code",
   "execution_count": 7,
   "metadata": {},
   "outputs": [
    {
     "name": "stdout",
     "output_type": "stream",
     "text": [
      "{2: 5, 3: 7}\n"
     ]
    }
   ],
   "source": [
    "N=3**7*2**5\n",
    "factors = Shor(N)\n",
    "print(factors)"
   ]
  },
  {
   "cell_type": "code",
   "execution_count": null,
   "metadata": {},
   "outputs": [],
   "source": []
  }
 ],
 "metadata": {
  "kernelspec": {
   "display_name": "Python 3",
   "language": "python",
   "name": "python3"
  },
  "language_info": {
   "codemirror_mode": {
    "name": "ipython",
    "version": 3
   },
   "file_extension": ".py",
   "mimetype": "text/x-python",
   "name": "python",
   "nbconvert_exporter": "python",
   "pygments_lexer": "ipython3",
   "version": "3.12.4"
  }
 },
 "nbformat": 4,
 "nbformat_minor": 2
}
