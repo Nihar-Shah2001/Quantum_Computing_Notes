{
 "cells": [
  {
   "cell_type": "markdown",
   "metadata": {},
   "source": [
    "# Block-encoding Tridiagonal Matrices\n",
    "======================================"
   ]
  },
  {
   "cell_type": "markdown",
   "metadata": {},
   "source": [
    "## Setup"
   ]
  },
  {
   "cell_type": "code",
   "execution_count": 25,
   "metadata": {},
   "outputs": [],
   "source": [
    "#Built-in modules\n",
    "import numpy as np\n",
    "\n",
    "#imports from Qiskit\n",
    "from qiskit import QuantumCircuit, QuantumRegister, ClassicalRegister\n",
    "from qiskit_aer import AerSimulator, UnitarySimulator\n",
    "import qiskit.circuit.library as qulib\n",
    "from qiskit.quantum_info import Operator\n",
    "from qiskit import transpile\n",
    "\n",
    "#Imports from Qiskit Primitives\n",
    "from qiskit_ibm_runtime import SamplerV2 as Sampler\n",
    "from qiskit.transpiler.preset_passmanagers import generate_preset_pass_manager\n",
    "\n",
    "#Imports from Qiskit Runtime\n",
    "from qiskit_ibm_runtime import QiskitRuntimeService"
   ]
  },
  {
   "cell_type": "code",
   "execution_count": 26,
   "metadata": {},
   "outputs": [],
   "source": [
    "# To run on hardware, select the backend with the fewest number of jobs in the queue\n",
    "backend = AerSimulator()  # Use AerSimulator for local simulation\n",
    "\n",
    "# To run on IBM Quantum hardware, uncomment the following lines\n",
    "# service = QiskitRuntimeService(channel=\"ibm_cloud\")\n",
    "# backend = service.least_busy(operational=True, simulator=False)\n",
    "# backend.name"
   ]
  },
  {
   "cell_type": "markdown",
   "metadata": {},
   "source": [
    "## Step 1: Map classical inputs to a quantum problem"
   ]
  },
  {
   "cell_type": "code",
   "execution_count": 4,
   "metadata": {},
   "outputs": [],
   "source": [
    "def TridiagonalBlockEncoding(m, arr):\n",
    "    \"\"\"\n",
    "    Inputs:\n",
    "    m: number of qubits of operator\n",
    "    arr: array of size 3 with the values of the diagonal and sub-diagonal elements\n",
    "    arr[0]: super-diagonal element (gamma)\n",
    "    arr[1]: diagonal element (alpha)\n",
    "    arr[2]: sub-diagonal element (beta)\n",
    "\n",
    "    Outputs:\n",
    "    Tridiagblckencd: QuantumCircuit object representing the block encoding of the tridiagonal matrix\n",
    "    \"\"\"\n",
    "\n",
    "    # Sparse Block encoding according to paper van Daan Camps 2023 Explicit block encoding of sparse matrices\n",
    "    n = 2 # Number of Ancilla Qubits\n",
    "\n",
    "    Tridiagblckencd = QuantumCircuit(n+m+1,name=\"Tridiagblckencd\")\n",
    "\n",
    "    # Diffusion Operator\n",
    "    Diffusion = QuantumCircuit(n,name=\"Diffusion\")\n",
    "    Diffusion.h(range(n))\n",
    "    Tridiagblckencd.append(Diffusion, list(range(1,n+1)))\n",
    "\n",
    "    #OA circuit\n",
    "    OA = QuantumCircuit(n+m+1,name=\"OA\")\n",
    "    theta0=2*np.arccos(arr[1]-1)\n",
    "    theta1=2*np.arccos(arr[2])\n",
    "    theta2=2*np.arccos(arr[0])\n",
    "    \n",
    "    \n",
    "    OA.append(qulib.RYGate(theta0).control(2,ctrl_state=\"00\"),[2,1,0])\n",
    "    OA.append(qulib.RYGate(theta1).control(2,ctrl_state=\"01\"),[2,1,0])\n",
    "    OA.append(qulib.RYGate(theta2).control(2,ctrl_state=\"10\"),[2,1,0])\n",
    "    str=\"01\"+\"1\"*m\n",
    "    OA.append(qulib.RYGate(np.pi - theta1).control(n+m,ctrl_state=str),list(range(n+m,-1,-1)))\n",
    "    str=\"10\"+\"0\"*m\n",
    "    OA.append(qulib.RYGate(np.pi - theta2).control(n+m,ctrl_state=str),list(range(n+m,-1,-1)))\n",
    "\n",
    "    Tridiagblckencd.append(OA, list(range(0,n+m+1)))\n",
    "    \n",
    "    #Oc Circuit\n",
    "    Oc = QuantumCircuit(n+m, name=\"Oc\")\n",
    "    #Lshift Operator\n",
    "    Lshift = QuantumCircuit(m, name=\"Lshift\")\n",
    "    for i in range(m-1):\n",
    "        Lshift.append(qulib.XGate().control(m-i-1),list(range(m-1,i-1,-1)))\n",
    "    Lshift.x(m-1)\n",
    "    Oc.append(qulib.UnitaryGate(Operator(Lshift),label=\"Lshift\").control(1),[1]+list(range(n,n+m)))\n",
    "    \n",
    "    #RShift Operator\n",
    "    Rshift = QuantumCircuit(m,name=\"Rshift\")\n",
    "    for i in range(m-1):\n",
    "        str='0'*(m-i-1)\n",
    "        Rshift.append(qulib.XGate().control(m-i-1,ctrl_state=str),list(range(m-1,i-1,-1)))\n",
    "    Rshift.x(m-1)\n",
    "    Oc.append(qulib.UnitaryGate(Operator(Rshift),label=\"Rshift\").control(1),[0]+list(range(n,n+m)))\n",
    "   \n",
    "    Tridiagblckencd.append(Oc, list(range(1,n+m+1)))\n",
    "\n",
    "    # Diffusion Operator\n",
    "    Tridiagblckencd.append(Diffusion, list(range(1,n+1)))\n",
    "    \n",
    "    return Tridiagblckencd\n",
    "    "
   ]
  },
  {
   "cell_type": "markdown",
   "metadata": {},
   "source": [
    "## Parameters"
   ]
  },
  {
   "cell_type": "code",
   "execution_count": 5,
   "metadata": {},
   "outputs": [
    {
     "name": "stdout",
     "output_type": "stream",
     "text": [
      "Dimension of Matrix:  4\n",
      "Sparsity:  3\n",
      "Number of Ancilla qubits:  3\n",
      "Total Number of Qubits:  5\n"
     ]
    }
   ],
   "source": [
    "# Required conditions\n",
    "m = 2 # n = 5 number of qubits chosen to implement the matrix, M = 2**m\n",
    "normalizing_factor = 1.6 # divide by this parameter to make the matrix spectral norm less than 1\n",
    "M = 2**m # Dimension of the matrix\n",
    "s = 3 # Sparsity\n",
    "r = int(np.ceil(np.log2(s)))\n",
    "\n",
    "# Matrix Parameters\n",
    "Vx = -0.5 # Vx chosen\n",
    "alpha = 1 + Vx # Diagonal entry\n",
    "beta = -0.5 # sub-diagonal entry\n",
    "gamma= -0.5 # Super-diagonal entry\n",
    "\n",
    "print(\"Dimension of Matrix: \",M)\n",
    "print(\"Sparsity: \",s)\n",
    "print(\"Number of Ancilla qubits: \", r+1)\n",
    "print(\"Total Number of Qubits: \", m+r+1)"
   ]
  },
  {
   "cell_type": "markdown",
   "metadata": {},
   "source": [
    "Note that both the constraints for block encoding of general s-sparse matrix which are $\\|A\\|_{max} = \\max_{ij} |A_{ij}| \\leq 1$ and $\\|A\\|_2 \\leq 1$ are followed. "
   ]
  },
  {
   "cell_type": "code",
   "execution_count": 6,
   "metadata": {},
   "outputs": [
    {
     "name": "stdout",
     "output_type": "stream",
     "text": [
      "The Matrix is:\n",
      " [[ 0.3125 -0.3125  0.      0.    ]\n",
      " [-0.3125  0.3125 -0.3125  0.    ]\n",
      " [ 0.     -0.3125  0.3125 -0.3125]\n",
      " [ 0.      0.     -0.3125  0.3125]]\n",
      "The matrix that would be encoded is:\n",
      " [[ 0.078125 -0.078125  0.        0.      ]\n",
      " [-0.078125  0.078125 -0.078125  0.      ]\n",
      " [ 0.       -0.078125  0.078125 -0.078125]\n",
      " [ 0.        0.       -0.078125  0.078125]]\n",
      "The matrix spectral Norm is:  0.8181356214843422\n",
      " The maximum value in the matrix is:  0.3125\n",
      "The minimum value in the matrix is:  -0.3125\n"
     ]
    }
   ],
   "source": [
    "super_diag = np.ones(M-1) * gamma\n",
    "main_diag = np.ones(M) * alpha\n",
    "sub_diag = np.ones(M-1) * beta\n",
    "\n",
    "tridiag_A = np.diag(main_diag) + np.diag(sub_diag, k=-1) + np.diag(super_diag, k=1)\n",
    "tridiag_A = tridiag_A/normalizing_factor\n",
    "print(\"The Matrix is:\\n\", tridiag_A)\n",
    "print(\"The matrix that would be encoded is:\\n\", tridiag_A/2**r)\n",
    "print(\"The matrix spectral Norm is: \",np.linalg.norm(tridiag_A,ord=2))\n",
    "print(\" The maximum value in the matrix is: \", np.max(tridiag_A))\n",
    "print(\"The minimum value in the matrix is: \", np.min(tridiag_A))"
   ]
  },
  {
   "cell_type": "markdown",
   "metadata": {},
   "source": [
    "#### Solving Eigenvalue problem classically, \n",
    "we have to diagonalize the matrix of size $2^m \\times 2^m$ where $m$ is the number of qubits. This is computationally expensive and not feasible for large $m$."
   ]
  },
  {
   "cell_type": "code",
   "execution_count": 7,
   "metadata": {},
   "outputs": [
    {
     "name": "stdout",
     "output_type": "stream",
     "text": [
      "Eigenvalues of A:\n",
      "[-0.04828391  0.02984109  0.12640891  0.20453391]\n",
      "Eigenvectors of A:\n",
      "[[-0.37174803 -0.60150096 -0.60150096 -0.37174803]\n",
      " [-0.60150096 -0.37174803  0.37174803  0.60150096]\n",
      " [-0.60150096  0.37174803  0.37174803 -0.60150096]\n",
      " [-0.37174803  0.60150096 -0.60150096  0.37174803]]\n"
     ]
    }
   ],
   "source": [
    "#Eigenvalues and eigenvectors\n",
    "eigenvalues, eigenvectors = np.linalg.eigh(tridiag_A/2**r)\n",
    "print(\"Eigenvalues of A:\")\n",
    "print(eigenvalues)\n",
    "print(\"Eigenvectors of A:\")\n",
    "print(eigenvectors)"
   ]
  },
  {
   "cell_type": "code",
   "execution_count": 8,
   "metadata": {},
   "outputs": [
    {
     "name": "stdout",
     "output_type": "stream",
     "text": [
      "U = \n",
      " [[-0.37174803 -0.60150096 -0.37174803 -0.60150096]\n",
      " [ 0.60150096  0.37174803 -0.60150096 -0.37174803]\n",
      " [-0.60150096  0.37174803 -0.60150096  0.37174803]\n",
      " [ 0.37174803 -0.60150096 -0.37174803  0.60150096]]\n",
      "V = \n",
      " [[-0.37174803  0.60150096 -0.60150096  0.37174803]\n",
      " [-0.60150096  0.37174803  0.37174803 -0.60150096]\n",
      " [ 0.37174803  0.60150096  0.60150096  0.37174803]\n",
      " [-0.60150096 -0.37174803  0.37174803  0.60150096]]\n",
      "Sigma = \n",
      " [0.81813562 0.50563562 0.19313562 0.11936438]\n"
     ]
    }
   ],
   "source": [
    "# Singular Value Decomposition\n",
    "U, sigma, V = np.linalg.svd(tridiag_A)\n",
    "print(\"U = \\n\",U)\n",
    "print(\"V = \\n\",V)\n",
    "print(\"Sigma = \\n\",sigma)"
   ]
  },
  {
   "cell_type": "markdown",
   "metadata": {},
   "source": [
    "# Simulator"
   ]
  },
  {
   "cell_type": "code",
   "execution_count": null,
   "metadata": {},
   "outputs": [
    {
     "data": {
      "image/png": "[encoded data removed]",
      "text/plain": [
       "<Figure size 538.33x451.5 with 1 Axes>"
      ]
     },
     "execution_count": 23,
     "metadata": {},
     "output_type": "execute_result"
    }
   ],
   "source": [
    "qc = QuantumCircuit(m+r+1,name=\"tridiagBE\")\n",
    "# print(m+r+1)\n",
    "\n",
    "# Add swap gates to reverse the order of qubits\n",
    "for i in range((m+r+1)//2):\n",
    "    qc.swap(i, m+r-i)\n",
    "\n",
    "circuit = TridiagonalBlockEncoding(m,[tridiag_A[0,1],tridiag_A[0,0],tridiag_A[1,0]])\n",
    "qc.append(circuit,list(range(0,m+r+1)))\n",
    "qc.draw('mpl')"
   ]
  },
  {
   "cell_type": "code",
   "execution_count": 27,
   "metadata": {},
   "outputs": [
    {
     "name": "stdout",
     "output_type": "stream",
     "text": [
      "Extracted unitary matrix:\n",
      "[[ 0.078125 -0.078125  0.        0.      ]\n",
      " [-0.078125  0.078125 -0.078125 -0.      ]\n",
      " [ 0.       -0.078125  0.078125 -0.078125]\n",
      " [ 0.        0.       -0.078125  0.078125]]\n"
     ]
    },
    {
     "name": "stderr",
     "output_type": "stream",
     "text": [
      "C:\\Users\\nihar\\AppData\\Local\\Temp\\ipykernel_50424\\281905596.py:12: DeprecationWarning: The return type of saved unitaries has been changed from a `numpy.ndarray` to a `qiskit.quantum_info.Operator` as of qiskit-aer 0.10. Accessing numpy array attributes is deprecated and will result in an error in a future release. To continue using saved result objects as arrays you can explicitly cast them using  `np.asarray(object)`.\n",
      "  unitary_matrix = unitary[:2**m, :2**m]\n"
     ]
    }
   ],
   "source": [
    "simulator = UnitarySimulator()\n",
    "np.set_printoptions(\n",
    "    threshold=np.inf,    # don't truncate\n",
    "    linewidth=200,       # prevent line-wrapping\n",
    "    precision=6,         # number of decimal places\n",
    "    suppress=True        # avoid scientific notation\n",
    ")\n",
    "\n",
    "transpiled_qc = transpile(qc, simulator, optimization_level=3)\n",
    "result = simulator.run(transpiled_qc).result()\n",
    "unitary = result.get_unitary(transpiled_qc)\n",
    "unitary_matrix = unitary[:2**m, :2**m]\n",
    "print(\"Extracted unitary matrix:\")\n",
    "print(unitary_matrix.real.round(6))"
   ]
  }
 ],
 "metadata": {
  "kernelspec": {
   "display_name": "qiskit-env",
   "language": "python",
   "name": "python3"
  },
  "language_info": {
   "codemirror_mode": {
    "name": "ipython",
    "version": 3
   },
   "file_extension": ".py",
   "mimetype": "text/x-python",
   "name": "python",
   "nbconvert_exporter": "python",
   "pygments_lexer": "ipython3",
   "version": "3.12.4"
  }
 },
 "nbformat": 4,
 "nbformat_minor": 2
}
