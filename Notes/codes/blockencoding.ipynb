{
 "cells": [
  {
   "cell_type": "markdown",
   "metadata": {},
   "source": [
    "# Importing Libraries"
   ]
  },
  {
   "cell_type": "code",
   "execution_count": 25,
   "metadata": {},
   "outputs": [],
   "source": [
    "import math\n",
    "import numpy as np"
   ]
  },
  {
   "cell_type": "code",
   "execution_count": 26,
   "metadata": {},
   "outputs": [],
   "source": [
    "from qiskit_ibm_runtime import QiskitRuntimeService\n",
    "from qiskit_ibm_runtime import SamplerV2 as Sampler\n",
    "\n",
    "# To run on hardware, selectthe backedn with the fewest number of jobs in the queue\n",
    "# service = QiskitRuntimeService(channel=\"ibm_quantum\")\n",
    "# backend = service.least_busy(operational=True, simulator=False)\n",
    "# backend.name"
   ]
  },
  {
   "cell_type": "code",
   "execution_count": 27,
   "metadata": {},
   "outputs": [],
   "source": [
    "from qiskit.quantum_info import Statevector, Operator\n",
    "import qiskit.quantum_info as qi\n",
    "from qiskit import QuantumCircuit, QuantumRegister, ClassicalRegister\n",
    "from qiskit.visualization import plot_histogram, plot_distribution\n",
    "import qiskit.circuit.library as qulib\n",
    "from qiskit_aer import AerSimulator\n",
    "from qiskit.result import marginal_distribution\n",
    "from qiskit import transpile"
   ]
  },
  {
   "cell_type": "code",
   "execution_count": 51,
   "metadata": {},
   "outputs": [],
   "source": [
    "def TridiagonalBlockEncoding(m,arr):\n",
    "    # Sparse Block encoding according to paper van Daan Camps 2023 Explicit block encoding of sparse matrices\n",
    "    n = 2 # Number of Ancilla Qubits\n",
    "    # s = 2 ** m sparsity\n",
    "    # n - number of qubits\n",
    "    Tridiagblckencd = QuantumCircuit(n+m+1,name=\"Tridiagblckencd\")\n",
    "    # print(\"Size of the Matrix: \",m)\n",
    "    # print(\"Number of Ancilla qubits: \",n+1)\n",
    "\n",
    "    # Diffusion Operator\n",
    "    Diffusion = QuantumCircuit(n,name=\"Diffusion\")\n",
    "    Diffusion.h(range(n))\n",
    "    Tridiagblckencd.append(Diffusion, list(range(1,n+1)))\n",
    "\n",
    "    #OA circuit\n",
    "    OA = QuantumCircuit(n+m+1,name=\"OA\")\n",
    "    theta0=2*np.arccos(arr[1]-1)\n",
    "    theta1=2*np.arccos(arr[2])\n",
    "    theta2=2*np.arccos(arr[0])\n",
    "    \n",
    "    # print(theta2)\n",
    "    # print(theta0)\n",
    "    # print(theta1)\n",
    "    \n",
    "    OA.append(qulib.RYGate(theta0).control(2,ctrl_state=\"00\"),[2,1,0])\n",
    "    OA.append(qulib.RYGate(theta1).control(2,ctrl_state=\"01\"),[2,1,0])\n",
    "    OA.append(qulib.RYGate(theta2).control(2,ctrl_state=\"10\"),[2,1,0])\n",
    "    str=\"01\"+\"1\"*m\n",
    "    OA.append(qulib.RYGate(np.pi - theta1).control(n+m,ctrl_state=str),list(range(n+m,-1,-1)))\n",
    "    str=\"10\"+\"0\"*m\n",
    "    OA.append(qulib.RYGate(np.pi - theta2).control(n+m,ctrl_state=str),list(range(n+m,-1,-1)))\n",
    "\n",
    "    Tridiagblckencd.append(OA, list(range(0,n+m+1)))\n",
    "    \n",
    "    #Oc Circuit\n",
    "    Oc = QuantumCircuit(n+m,name=\"Oc\")\n",
    "    #Lshift Operator\n",
    "    Lshift = QuantumCircuit(m,name=\"Lshift\")\n",
    "    for i in range(m-1):\n",
    "        Lshift.append(qulib.XGate().control(m-i-1),list(range(m-1,i-1,-1)))\n",
    "    Lshift.x(m-1)\n",
    "    Oc.append(qulib.UnitaryGate(Operator(Lshift),label=\"Lshift\").control(1),[1]+list(range(n,n+m)))\n",
    "    \n",
    "    #RShift Operator\n",
    "    Rshift = QuantumCircuit(m,name=\"Rshift\")\n",
    "    for i in range(m-1):\n",
    "        str='0'*(m-i-1)\n",
    "        Rshift.append(qulib.XGate().control(m-i-1,ctrl_state=str),list(range(m-1,i-1,-1)))\n",
    "    Rshift.x(m-1)\n",
    "    Oc.append(qulib.UnitaryGate(Operator(Rshift),label=\"Rshift\").control(1),[0]+list(range(n,n+m)))\n",
    "   \n",
    "    Tridiagblckencd.append(Oc, list(range(1,n+m+1)))\n",
    "\n",
    "    # Diffusion Operator\n",
    "    Tridiagblckencd.append(Diffusion, list(range(1,n+1)))\n",
    "    \n",
    "    return Tridiagblckencd\n",
    "    "
   ]
  },
  {
   "cell_type": "markdown",
   "metadata": {},
   "source": [
    "## Parameters"
   ]
  },
  {
   "cell_type": "code",
   "execution_count": 29,
   "metadata": {},
   "outputs": [
    {
     "name": "stdout",
     "output_type": "stream",
     "text": [
      "Dimension of Matrix:  32\n",
      "Sparsity:  3\n",
      "Number of Ancilla qubits:  3\n",
      "Total Number of Qubits:  8\n"
     ]
    }
   ],
   "source": [
    "# Required conditions\n",
    "m = 5 # n=5 number of qubits chosen to implement the matrix, N=2**n\n",
    "delta = 1.6 # divide by this parameter to make the matrix spectral norm less than 1\n",
    "M = 2**m # Dimension of the matrix\n",
    "s = 3 # Sparsity\n",
    "r = int(np.ceil(np.log2(s)))\n",
    "\n",
    "# Matrix Parameters\n",
    "Vx = -0.5 # Vx chosen\n",
    "alpha = 1 + Vx # Diagonal entry\n",
    "beta = -0.5 # sub-diagonal entry\n",
    "gamma= -0.5 # Super-diagonal entry\n",
    "\n",
    "print(\"Dimension of Matrix: \",M)\n",
    "print(\"Sparsity: \",s)\n",
    "print(\"Number of Ancilla qubits: \", r+1)\n",
    "print(\"Total Number of Qubits: \", m+r+1)"
   ]
  },
  {
   "cell_type": "markdown",
   "metadata": {},
   "source": [
    "Note that both the constraints for block encoding of general s-sparse matrix which are $\\|A\\|_{max} = \\max_{ij} |A_{ij}| \\leq 1$ and $\\|A\\|_2 \\leq 1$ are followed. "
   ]
  },
  {
   "cell_type": "code",
   "execution_count": 30,
   "metadata": {},
   "outputs": [
    {
     "name": "stdout",
     "output_type": "stream",
     "text": [
      "The matrix is:\n",
      " [[ 0.3125 -0.3125  0.     ...  0.      0.      0.    ]\n",
      " [-0.3125  0.3125 -0.3125 ...  0.      0.      0.    ]\n",
      " [ 0.     -0.3125  0.3125 ...  0.      0.      0.    ]\n",
      " ...\n",
      " [ 0.      0.      0.     ...  0.3125 -0.3125  0.    ]\n",
      " [ 0.      0.      0.     ... -0.3125  0.3125 -0.3125]\n",
      " [ 0.      0.      0.     ...  0.     -0.3125  0.3125]]\n",
      "The matrix spectral Norm is:  0.934669951608178\n",
      " The maximum value in the matrix is: \n"
     ]
    }
   ],
   "source": [
    "super_diag = np.ones(M-1) * gamma\n",
    "main_diag = np.ones(M) * alpha\n",
    "sub_diag = np.ones(M-1) * beta\n",
    "\n",
    "tridiag_A = np.diag(main_diag) + np.diag(sub_diag, k=-1) + np.diag(super_diag, k=1)\n",
    "tridiag_A = tridiag_A/delta\n",
    "print(\"The matrix is:\\n\", tridiag_A)\n",
    "print(\"The matrix spectral Norm is: \",np.linalg.norm(tridiag_A,ord=2))\n",
    "print(\" The maximum value in the matrix is: \", )"
   ]
  },
  {
   "cell_type": "markdown",
   "metadata": {},
   "source": [
    "#### Solving Eigenvalue problem classically, \n",
    "we have to diagonalize the matrix of size $2^N \\times 2^N$ where $N$ is the number of qubits. This is computationally expensive and not feasible for large $N$."
   ]
  },
  {
   "cell_type": "code",
   "execution_count": 31,
   "metadata": {},
   "outputs": [
    {
     "name": "stdout",
     "output_type": "stream",
     "text": [
      "Eigenvalues of A:\n",
      "[-3.09669952e-01 -3.01205436e-01 -2.87183109e-01 -2.67729958e-01\n",
      " -2.43022155e-01 -2.13283458e-01 -1.78783184e-01 -1.39833774e-01\n",
      " -9.67879587e-02 -5.00355685e-02 -3.51159794e-17  5.28656169e-02\n",
      "  1.08082523e-01  1.65150665e-01  2.23553226e-01  2.82761303e-01\n",
      "  3.42238697e-01  4.01446774e-01  4.59849335e-01  5.16917477e-01\n",
      "  5.72134383e-01  9.34669952e-01  9.26205436e-01  9.12183109e-01\n",
      "  8.92729958e-01  8.68022155e-01  8.38283458e-01  8.03783184e-01\n",
      "  7.64833774e-01  7.21787959e-01  6.75035568e-01  6.25000000e-01]\n",
      "Eigenvectors of A:\n",
      "[[ 2.34011802e-02 -4.65904357e-02 -6.93577610e-02 ...  1.86052684e-01\n",
      "  -2.00534737e-01 -2.13200716e-01]\n",
      " [ 4.65904357e-02 -9.14969716e-02 -1.33096569e-01 ... -2.43677194e-01\n",
      "   2.32643120e-01  2.13200716e-01]\n",
      " [ 6.93577610e-02 -1.33096569e-01 -1.86052684e-01 ...  1.33096569e-01\n",
      "  -6.93577610e-02  3.10072080e-16]\n",
      " ...\n",
      " [ 6.93577610e-02  1.33096569e-01 -1.86052684e-01 ... -1.33096569e-01\n",
      "  -6.93577610e-02 -1.34992439e-17]\n",
      " [ 4.65904357e-02  9.14969716e-02 -1.33096569e-01 ...  2.43677194e-01\n",
      "   2.32643120e-01 -2.13200716e-01]\n",
      " [ 2.34011802e-02  4.65904357e-02 -6.93577610e-02 ... -1.86052684e-01\n",
      "  -2.00534737e-01  2.13200716e-01]]\n"
     ]
    }
   ],
   "source": [
    "#Eigenvalues and eigenvectors\n",
    "eigenvalues, eigenvectors = np.linalg.eig(tridiag_A)\n",
    "print(\"Eigenvalues of A:\")\n",
    "print(eigenvalues)\n",
    "print(\"Eigenvectors of A:\")\n",
    "print(eigenvectors)"
   ]
  },
  {
   "cell_type": "code",
   "execution_count": 32,
   "metadata": {},
   "outputs": [
    {
     "name": "stdout",
     "output_type": "stream",
     "text": [
      "U = \n",
      " [[-2.34011802e-02  4.65904357e-02 -6.93577610e-02 ... -2.23935917e-01\n",
      "   2.00534737e-01 -2.13200716e-01]\n",
      " [ 4.65904357e-02 -9.14969716e-02  1.33096569e-01 ... -1.86052684e-01\n",
      "   2.32643120e-01 -2.13200716e-01]\n",
      " [-6.93577610e-02  1.33096569e-01 -1.86052684e-01 ...  6.93577610e-02\n",
      "   6.93577610e-02  2.49800181e-16]\n",
      " ...\n",
      " [ 6.93577610e-02  1.33096569e-01  1.86052684e-01 ... -6.93577610e-02\n",
      "  -6.93577610e-02 -3.90101109e-16]\n",
      " [-4.65904357e-02 -9.14969716e-02 -1.33096569e-01 ...  1.86052684e-01\n",
      "  -2.32643120e-01 -2.13200716e-01]\n",
      " [ 2.34011802e-02  4.65904357e-02  6.93577610e-02 ...  2.23935917e-01\n",
      "  -2.00534737e-01 -2.13200716e-01]]\n",
      "V = \n",
      " [[-2.34011802e-02  4.65904357e-02 -6.93577610e-02 ...  6.93577610e-02\n",
      "  -4.65904357e-02  2.34011802e-02]\n",
      " [ 4.65904357e-02 -9.14969716e-02  1.33096569e-01 ...  1.33096569e-01\n",
      "  -9.14969716e-02  4.65904357e-02]\n",
      " [-6.93577610e-02  1.33096569e-01 -1.86052684e-01 ...  1.86052684e-01\n",
      "  -1.33096569e-01  6.93577610e-02]\n",
      " ...\n",
      " [-2.23935917e-01 -1.86052684e-01  6.93577610e-02 ... -6.93577610e-02\n",
      "   1.86052684e-01  2.23935917e-01]\n",
      " [-2.00534737e-01 -2.32643120e-01 -6.93577610e-02 ...  6.93577610e-02\n",
      "   2.32643120e-01  2.00534737e-01]\n",
      " [-2.13200716e-01 -2.13200716e-01 -2.66873009e-16 ...  2.09843811e-16\n",
      "  -2.13200716e-01 -2.13200716e-01]]\n",
      "Sigma = \n",
      " [9.34669952e-01 9.26205436e-01 9.12183109e-01 8.92729958e-01\n",
      " 8.68022155e-01 8.38283458e-01 8.03783184e-01 7.64833774e-01\n",
      " 7.21787959e-01 6.75035568e-01 6.25000000e-01 5.72134383e-01\n",
      " 5.16917477e-01 4.59849335e-01 4.01446774e-01 3.42238697e-01\n",
      " 3.09669952e-01 3.01205436e-01 2.87183109e-01 2.82761303e-01\n",
      " 2.67729958e-01 2.43022155e-01 2.23553226e-01 2.13283458e-01\n",
      " 1.78783184e-01 1.65150665e-01 1.39833774e-01 1.08082523e-01\n",
      " 9.67879587e-02 5.28656169e-02 5.00355685e-02 2.60577468e-16]\n"
     ]
    }
   ],
   "source": [
    "# Singular Value Decomposition\n",
    "U, sigma, V = np.linalg.svd(tridiag_A)\n",
    "print(\"U = \\n\",U)\n",
    "print(\"V = \\n\",V)\n",
    "print(\"Sigma = \\n\",sigma)"
   ]
  },
  {
   "cell_type": "markdown",
   "metadata": {},
   "source": [
    "# Simulator"
   ]
  },
  {
   "cell_type": "code",
   "execution_count": 52,
   "metadata": {},
   "outputs": [
    {
     "data": {
      "image/png": "[encoded data removed]",
      "text/plain": [
       "<Figure size 1040x702.333 with 1 Axes>"
      ]
     },
     "execution_count": 52,
     "metadata": {},
     "output_type": "execute_result"
    }
   ],
   "source": [
    "# backend = AerSimulator()\n",
    "\n",
    "qc = QuantumCircuit(m+r+1,name=\"tridiagBE\")\n",
    "circuit = TridiagonalBlockEncoding(5,[tridiag_A[0,1],tridiag_A[0,0],tridiag_A[1,0]])\n",
    "qc.append(circuit,list(range(0,m+r+1)))\n",
    "# qc.measure(list(range(0,r+1)),list(range(0,r+1)))\n",
    "\n",
    "circuit.decompose().draw('mpl')"
   ]
  },
  {
   "cell_type": "markdown",
   "metadata": {},
   "source": [
    "## Verification through inner products !!! $Need to check$"
   ]
  },
  {
   "cell_type": "code",
   "execution_count": 83,
   "metadata": {},
   "outputs": [
    {
     "name": "stdout",
     "output_type": "stream",
     "text": [
      "00000\n",
      "(-7.014669448467934e-17-2.6892447518548114e-16j)\n"
     ]
    }
   ],
   "source": [
    "i = 0\n",
    "j = 1\n",
    "\n",
    "print((format(i, f'0{m}b'))[::-1])\n",
    "keti = Statevector.from_label((format(i, f'0{m}b'))[::-1])\n",
    "ketj = Statevector.from_label((format(j, f'0{m}b'))[::-1])\n",
    "# print(keti)\n",
    "# print(ketj)\n",
    "\n",
    "# Take tensor product of i with ket 0\n",
    "ket0 = Statevector.from_label('0')\n",
    "ket0r = Statevector.from_label('0'*r)\n",
    "\n",
    "print((((ket0.tensor(ket0r)).tensor(keti)).evolve(qc)).inner((ket0.tensor(ket0r)).tensor(ketj)))"
   ]
  },
  {
   "cell_type": "code",
   "execution_count": 54,
   "metadata": {},
   "outputs": [
    {
     "name": "stdout",
     "output_type": "stream",
     "text": [
      "0.2500000000-0.0000000000j |00000001>\n",
      "0.2500000000-0.0000000000j |00000011>\n",
      "-0.2500000000+0.0000000000j |00000101>\n",
      "-0.2500000000+0.0000000000j |00000111>\n",
      "-0.0781250000-0.0000000000j |01111000>\n",
      "0.2374794399+0.0000000000j |01111001>\n",
      "0.0781250000+0.0000000000j |01111010>\n",
      "-0.2374794399-0.0000000000j |01111011>\n",
      "-0.0781250000-0.0000000000j |01111100>\n",
      "0.2374794399+0.0000000000j |01111101>\n",
      "0.0781250000+0.0000000000j |01111110>\n",
      "-0.2374794399-0.0000000000j |01111111>\n",
      "0.0781250000-0.0000000000j |11111000>\n",
      "0.1815460944-0.0000000000j |11111001>\n",
      "-0.4218750000+0.0000000000j |11111010>\n",
      "0.1815460944-0.0000000000j |11111011>\n",
      "-0.4218750000+0.0000000000j |11111100>\n",
      "0.1815460944-0.0000000000j |11111101>\n",
      "0.0781250000-0.0000000000j |11111110>\n",
      "0.1815460944-0.0000000000j |11111111>\n"
     ]
    }
   ],
   "source": [
    "psi_0 = Statevector.from_label('11111'+'0'*r+'0')\n",
    "# psi_0.draw(\"latex\")\n",
    "psi_f = psi_0.evolve(qc)\n",
    "psi_f.draw('latex')\n",
    "\n",
    "\n",
    "# Expand the output\n",
    "amplitudes = psi_f.data\n",
    "num_qubits = len(psi_f.dims())\n",
    "basis_states = [format(i, f'0{num_qubits}b') for i in range(2**num_qubits)]\n",
    "\n",
    "# Print the expanded output\n",
    "for amplitude, basis_state in zip(amplitudes, basis_states):\n",
    "    if abs(amplitude) > 1e-10:  # Filter out very small amplitudes\n",
    "        print(f'{amplitude:.10f} |{basis_state}>')"
   ]
  },
  {
   "cell_type": "code",
   "execution_count": 84,
   "metadata": {},
   "outputs": [
    {
     "data": {
      "text/plain": [
       "array([[ 7.81250000e-02-9.66301442e-15j, -1.81546094e-01+1.55691432e-14j,\n",
       "        -4.21875000e-01+4.02912921e-14j, ...,\n",
       "         2.50000000e-01-1.90975185e-14j,  2.95313574e-16-1.52500093e-16j,\n",
       "         2.50000000e-01-1.90975185e-14j],\n",
       "       [ 1.81546094e-01-1.58137392e-14j,  7.81250000e-02-1.01436014e-14j,\n",
       "         1.81546094e-01-1.58970059e-14j, ...,\n",
       "        -2.97584348e-16+6.38079974e-16j, -2.50000000e-01+1.88789433e-14j,\n",
       "        -3.20616050e-16+7.18087157e-16j],\n",
       "       [-4.21875000e-01+4.02912921e-14j, -1.81546094e-01+1.47711704e-14j,\n",
       "         7.81250000e-02-9.66301442e-15j, ...,\n",
       "         2.50000000e-01-1.90975185e-14j,  3.14993506e-16-2.04094499e-16j,\n",
       "         2.50000000e-01-1.90975185e-14j],\n",
       "       ...,\n",
       "       [ 2.50000000e-01-2.42910872e-14j,  1.59707662e-16-9.08053271e-16j,\n",
       "        -2.50000000e-01+2.41912576e-14j, ...,\n",
       "         7.81250000e-02-1.71437578e-14j,  1.81546094e-01-5.41769700e-15j,\n",
       "        -4.21875000e-01+2.81002713e-14j],\n",
       "       [ 4.36936596e-16+7.19992088e-17j,  2.50000000e-01-2.39435942e-14j,\n",
       "        -4.32117231e-16-6.14741814e-17j, ...,\n",
       "        -1.81546094e-01+4.40548585e-15j,  7.81250000e-02-1.53723353e-14j,\n",
       "        -1.81546094e-01+6.46807206e-15j],\n",
       "       [-2.50000000e-01+2.41912576e-14j, -1.54888297e-16+9.18578299e-16j,\n",
       "         2.50000000e-01-2.42910872e-14j, ...,\n",
       "        -4.21875000e-01+2.81002713e-14j,  1.81546094e-01-5.15748848e-15j,\n",
       "         7.81250000e-02-1.71437578e-14j]])"
      ]
     },
     "execution_count": 84,
     "metadata": {},
     "output_type": "execute_result"
    }
   ],
   "source": [
    "Operator(circuit).data"
   ]
  }
 ],
 "metadata": {
  "kernelspec": {
   "display_name": "Python 3",
   "language": "python",
   "name": "python3"
  },
  "language_info": {
   "codemirror_mode": {
    "name": "ipython",
    "version": 3
   },
   "file_extension": ".py",
   "mimetype": "text/x-python",
   "name": "python",
   "nbconvert_exporter": "python",
   "pygments_lexer": "ipython3",
   "version": "3.12.4"
  }
 },
 "nbformat": 4,
 "nbformat_minor": 2
}
