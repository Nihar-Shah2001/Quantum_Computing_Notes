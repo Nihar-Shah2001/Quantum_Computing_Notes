{
 "cells": [
  {
   "cell_type": "markdown",
   "metadata": {},
   "source": [
    "# Importing Libraries"
   ]
  },
  {
   "cell_type": "code",
   "execution_count": 1,
   "metadata": {},
   "outputs": [],
   "source": [
    "import math\n",
    "import numpy as np"
   ]
  },
  {
   "cell_type": "code",
   "execution_count": null,
   "metadata": {},
   "outputs": [],
   "source": [
    "# from qiskit_ibm_runtime import QiskitRuntimeService\n",
    "# from qiskit_ibm_runtime import SamplerV2 as Sampler\n",
    "\n",
    "# To run on hardware, selectthe backedn with the fewest number of jobs in the queue\n",
    "# service = QiskitRuntimeService(channel=\"ibm_quantum\")\n",
    "# backend = service.least_busy(operational=True, simulator=False)\n",
    "# backend.name"
   ]
  },
  {
   "cell_type": "code",
   "execution_count": 2,
   "metadata": {},
   "outputs": [],
   "source": [
    "from qiskit.quantum_info import Statevector, Operator\n",
    "import qiskit.quantum_info as qi\n",
    "from qiskit import QuantumCircuit, QuantumRegister, ClassicalRegister\n",
    "from qiskit.visualization import plot_histogram, plot_distribution\n",
    "import qiskit.circuit.library as qulib\n",
    "from qiskit_aer import AerSimulator\n",
    "from qiskit.result import marginal_distribution\n",
    "from qiskit import transpile"
   ]
  },
  {
   "cell_type": "code",
   "execution_count": 30,
   "metadata": {},
   "outputs": [],
   "source": [
    "def TridiagonalBlockEncoding(m,arr):\n",
    "    \"\"\"\n",
    "    Inputs:\n",
    "    m: number of qubits of operator\n",
    "    arr: array of size 3 with the values of the diagonal and sub-diagonal elements\n",
    "    arr[0]: super-diagonal element (gamma)\n",
    "    arr[1]: diagonal element (alpha)\n",
    "    arr[2]: sub-diagonal element (beta)\n",
    "\n",
    "    Outputs:\n",
    "    Tridiagblckencd: QuantumCircuit object representing the block encoding of the tridiagonal matrix\n",
    "    \"\"\"\n",
    "\n",
    "    # Sparse Block encoding according to paper van Daan Camps 2023 Explicit block encoding of sparse matrices\n",
    "    n = 2 # Number of Ancilla Qubits\n",
    "\n",
    "    Tridiagblckencd = QuantumCircuit(n+m+1,name=\"Tridiagblckencd\")\n",
    "\n",
    "    # Diffusion Operator\n",
    "    Diffusion = QuantumCircuit(n,name=\"Diffusion\")\n",
    "    Diffusion.h(range(n))\n",
    "    Tridiagblckencd.append(Diffusion, list(range(1,n+1)))\n",
    "\n",
    "    #OA circuit\n",
    "    OA = QuantumCircuit(n+m+1,name=\"OA\")\n",
    "    theta0=2*np.arccos(arr[1]-1)\n",
    "    theta1=2*np.arccos(arr[2])\n",
    "    theta2=2*np.arccos(arr[0])\n",
    "    \n",
    "    # print(theta2)\n",
    "    # print(theta0)\n",
    "    # print(theta1)\n",
    "    \n",
    "    OA.append(qulib.RYGate(theta0).control(2,ctrl_state=\"00\"),[2,1,0])\n",
    "    OA.append(qulib.RYGate(theta1).control(2,ctrl_state=\"01\"),[2,1,0])\n",
    "    OA.append(qulib.RYGate(theta2).control(2,ctrl_state=\"10\"),[2,1,0])\n",
    "    str=\"01\"+\"1\"*m\n",
    "    OA.append(qulib.RYGate(np.pi - theta1).control(n+m,ctrl_state=str),list(range(n+m,-1,-1)))\n",
    "    str=\"10\"+\"0\"*m\n",
    "    OA.append(qulib.RYGate(np.pi - theta2).control(n+m,ctrl_state=str),list(range(n+m,-1,-1)))\n",
    "\n",
    "    Tridiagblckencd.append(OA, list(range(0,n+m+1)))\n",
    "    \n",
    "    #Oc Circuit\n",
    "    Oc = QuantumCircuit(n+m,name=\"Oc\")\n",
    "    #Lshift Operator\n",
    "    Lshift = QuantumCircuit(m,name=\"Lshift\")\n",
    "    for i in range(m-1):\n",
    "        Lshift.append(qulib.XGate().control(m-i-1),list(range(m-1,i-1,-1)))\n",
    "    Lshift.x(m-1)\n",
    "    Oc.append(qulib.UnitaryGate(Operator(Lshift),label=\"Lshift\").control(1),[1]+list(range(n,n+m)))\n",
    "    \n",
    "    #RShift Operator\n",
    "    Rshift = QuantumCircuit(m,name=\"Rshift\")\n",
    "    for i in range(m-1):\n",
    "        str='0'*(m-i-1)\n",
    "        Rshift.append(qulib.XGate().control(m-i-1,ctrl_state=str),list(range(m-1,i-1,-1)))\n",
    "    Rshift.x(m-1)\n",
    "    Oc.append(qulib.UnitaryGate(Operator(Rshift),label=\"Rshift\").control(1),[0]+list(range(n,n+m)))\n",
    "   \n",
    "    Tridiagblckencd.append(Oc, list(range(1,n+m+1)))\n",
    "\n",
    "    # Diffusion Operator\n",
    "    Tridiagblckencd.append(Diffusion, list(range(1,n+1)))\n",
    "    \n",
    "    return Tridiagblckencd\n",
    "    "
   ]
  },
  {
   "cell_type": "markdown",
   "metadata": {},
   "source": [
    "## Parameters"
   ]
  },
  {
   "cell_type": "code",
   "execution_count": 35,
   "metadata": {},
   "outputs": [
    {
     "name": "stdout",
     "output_type": "stream",
     "text": [
      "Dimension of Matrix:  4\n",
      "Sparsity:  3\n",
      "Number of Ancilla qubits:  3\n",
      "Total Number of Qubits:  5\n"
     ]
    }
   ],
   "source": [
    "# Required conditions\n",
    "m = 2 # n = 5 number of qubits chosen to implement the matrix, M = 2**m\n",
    "normalizing_factor = 1.6 # divide by this parameter to make the matrix spectral norm less than 1\n",
    "M = 2**m # Dimension of the matrix\n",
    "s = 3 # Sparsity\n",
    "r = int(np.ceil(np.log2(s)))\n",
    "\n",
    "# Matrix Parameters\n",
    "Vx = -0.5 # Vx chosen\n",
    "alpha = 1 + Vx # Diagonal entry\n",
    "beta = -0.5 # sub-diagonal entry\n",
    "gamma= -0.5 # Super-diagonal entry\n",
    "\n",
    "print(\"Dimension of Matrix: \",M)\n",
    "print(\"Sparsity: \",s)\n",
    "print(\"Number of Ancilla qubits: \", r+1)\n",
    "print(\"Total Number of Qubits: \", m+r+1)"
   ]
  },
  {
   "cell_type": "markdown",
   "metadata": {},
   "source": [
    "Note that both the constraints for block encoding of general s-sparse matrix which are $\\|A\\|_{max} = \\max_{ij} |A_{ij}| \\leq 1$ and $\\|A\\|_2 \\leq 1$ are followed. "
   ]
  },
  {
   "cell_type": "code",
   "execution_count": 36,
   "metadata": {},
   "outputs": [
    {
     "name": "stdout",
     "output_type": "stream",
     "text": [
      "The matrix is:\n",
      " [[ 0.3125 -0.3125  0.      0.    ]\n",
      " [-0.3125  0.3125 -0.3125  0.    ]\n",
      " [ 0.     -0.3125  0.3125 -0.3125]\n",
      " [ 0.      0.     -0.3125  0.3125]]\n",
      "The matrix spectral Norm is:  0.8181356214843422\n",
      " The maximum value in the matrix is:  0.3125\n",
      "The minimum value in the matrix is:  -0.3125\n"
     ]
    }
   ],
   "source": [
    "super_diag = np.ones(M-1) * gamma\n",
    "main_diag = np.ones(M) * alpha\n",
    "sub_diag = np.ones(M-1) * beta\n",
    "\n",
    "tridiag_A = np.diag(main_diag) + np.diag(sub_diag, k=-1) + np.diag(super_diag, k=1)\n",
    "tridiag_A = tridiag_A/normalizing_factor\n",
    "print(\"The matrix is:\\n\", tridiag_A)\n",
    "print(\"The matrix spectral Norm is: \",np.linalg.norm(tridiag_A,ord=2))\n",
    "print(\" The maximum value in the matrix is: \", np.max(tridiag_A))\n",
    "print(\"The minimum value in the matrix is: \", np.min(tridiag_A))"
   ]
  },
  {
   "cell_type": "markdown",
   "metadata": {},
   "source": [
    "#### Solving Eigenvalue problem classically, \n",
    "we have to diagonalize the matrix of size $2^m \\times 2^m$ where $m$ is the number of qubits. This is computationally expensive and not feasible for large $m$."
   ]
  },
  {
   "cell_type": "code",
   "execution_count": 37,
   "metadata": {},
   "outputs": [
    {
     "name": "stdout",
     "output_type": "stream",
     "text": [
      "Eigenvalues of A:\n",
      "[-0.19313562  0.11936438  0.50563562  0.81813562]\n",
      "Eigenvectors of A:\n",
      "[[-0.37174803  0.60150096  0.60150096 -0.37174803]\n",
      " [-0.60150096  0.37174803 -0.37174803  0.60150096]\n",
      " [-0.60150096 -0.37174803 -0.37174803 -0.60150096]\n",
      " [-0.37174803 -0.60150096  0.60150096  0.37174803]]\n"
     ]
    }
   ],
   "source": [
    "#Eigenvalues and eigenvectors\n",
    "eigenvalues, eigenvectors = np.linalg.eigh(tridiag_A)\n",
    "print(\"Eigenvalues of A:\")\n",
    "print(eigenvalues)\n",
    "print(\"Eigenvectors of A:\")\n",
    "print(eigenvectors)"
   ]
  },
  {
   "cell_type": "code",
   "execution_count": 38,
   "metadata": {},
   "outputs": [
    {
     "name": "stdout",
     "output_type": "stream",
     "text": [
      "U = \n",
      " [[-0.37174803 -0.60150096  0.37174803  0.60150096]\n",
      " [ 0.60150096  0.37174803  0.60150096  0.37174803]\n",
      " [-0.60150096  0.37174803  0.60150096 -0.37174803]\n",
      " [ 0.37174803 -0.60150096  0.37174803 -0.60150096]]\n",
      "V = \n",
      " [[-0.37174803  0.60150096 -0.60150096  0.37174803]\n",
      " [-0.60150096  0.37174803  0.37174803 -0.60150096]\n",
      " [-0.37174803 -0.60150096 -0.60150096 -0.37174803]\n",
      " [ 0.60150096  0.37174803 -0.37174803 -0.60150096]]\n",
      "Sigma = \n",
      " [0.81813562 0.50563562 0.19313562 0.11936438]\n"
     ]
    }
   ],
   "source": [
    "# Singular Value Decomposition\n",
    "U, sigma, V = np.linalg.svd(tridiag_A)\n",
    "print(\"U = \\n\",U)\n",
    "print(\"V = \\n\",V)\n",
    "print(\"Sigma = \\n\",sigma)"
   ]
  },
  {
   "cell_type": "markdown",
   "metadata": {},
   "source": [
    "# Simulator"
   ]
  },
  {
   "cell_type": "code",
   "execution_count": 39,
   "metadata": {},
   "outputs": [
    {
     "data": {
      "image/png": "[encoded data removed]",
      "text/plain": [
       "<Figure size 1040x451.5 with 1 Axes>"
      ]
     },
     "execution_count": 39,
     "metadata": {},
     "output_type": "execute_result"
    }
   ],
   "source": [
    "# backend = AerSimulator()\n",
    "\n",
    "qc = QuantumCircuit(m+r+1,name=\"tridiagBE\")\n",
    "circuit = TridiagonalBlockEncoding(m,[tridiag_A[0,1],tridiag_A[0,0],tridiag_A[1,0]])\n",
    "qc.append(circuit,list(range(0,m+r+1)))\n",
    "# qc.measure(list(range(0,r+1)),list(range(0,r+1)))\n",
    "\n",
    "circuit.decompose().draw('mpl')"
   ]
  },
  {
   "cell_type": "markdown",
   "metadata": {},
   "source": [
    "## Verification through inner products !!! $Need to check$"
   ]
  },
  {
   "cell_type": "code",
   "execution_count": 45,
   "metadata": {},
   "outputs": [
    {
     "name": "stdout",
     "output_type": "stream",
     "text": [
      "10\n",
      "Statevector([1.+0.j, 0.+0.j, 0.+0.j, 0.+0.j],\n",
      "            dims=(2, 2))\n",
      "Statevector([0.+0.j, 0.+0.j, 0.+0.j, 0.+0.j, 0.+0.j, 1.+0.j, 0.+0.j,\n",
      "             0.+0.j, 0.+0.j, 0.+0.j, 0.+0.j, 0.+0.j, 0.+0.j, 0.+0.j,\n",
      "             0.+0.j, 0.+0.j],\n",
      "            dims=(2, 2, 2, 2))\n"
     ]
    },
    {
     "ename": "QiskitError",
     "evalue": "'Statevector dimensions do not match: (2, 2, 2, 2, 2) and (2, 2, 2, 2, 2, 2, 2).'",
     "output_type": "error",
     "traceback": [
      "\u001b[0;31m---------------------------------------------------------------------------\u001b[0m",
      "\u001b[0;31mQiskitError\u001b[0m                               Traceback (most recent call last)",
      "Cell \u001b[0;32mIn[45], line 14\u001b[0m\n\u001b[1;32m     11\u001b[0m ket0 \u001b[38;5;241m=\u001b[39m Statevector\u001b[38;5;241m.\u001b[39mfrom_label(\u001b[38;5;124m'\u001b[39m\u001b[38;5;124m0\u001b[39m\u001b[38;5;124m'\u001b[39m)\n\u001b[1;32m     12\u001b[0m ket0r \u001b[38;5;241m=\u001b[39m Statevector\u001b[38;5;241m.\u001b[39mfrom_label(\u001b[38;5;124m'\u001b[39m\u001b[38;5;124m0\u001b[39m\u001b[38;5;124m'\u001b[39m\u001b[38;5;241m*\u001b[39mr)\n\u001b[0;32m---> 14\u001b[0m \u001b[38;5;28mprint\u001b[39m(\u001b[43m(\u001b[49m\u001b[43m(\u001b[49m\u001b[43m(\u001b[49m\u001b[43mket0\u001b[49m\u001b[38;5;241;43m.\u001b[39;49m\u001b[43mtensor\u001b[49m\u001b[43m(\u001b[49m\u001b[43mket0r\u001b[49m\u001b[43m)\u001b[49m\u001b[43m)\u001b[49m\u001b[38;5;241;43m.\u001b[39;49m\u001b[43mtensor\u001b[49m\u001b[43m(\u001b[49m\u001b[43mketi\u001b[49m\u001b[43m)\u001b[49m\u001b[43m)\u001b[49m\u001b[38;5;241;43m.\u001b[39;49m\u001b[43mevolve\u001b[49m\u001b[43m(\u001b[49m\u001b[43mqc\u001b[49m\u001b[43m)\u001b[49m\u001b[43m)\u001b[49m\u001b[38;5;241;43m.\u001b[39;49m\u001b[43minner\u001b[49m\u001b[43m(\u001b[49m\u001b[43m(\u001b[49m\u001b[43mket0\u001b[49m\u001b[38;5;241;43m.\u001b[39;49m\u001b[43mtensor\u001b[49m\u001b[43m(\u001b[49m\u001b[43mket0r\u001b[49m\u001b[43m)\u001b[49m\u001b[43m)\u001b[49m\u001b[38;5;241;43m.\u001b[39;49m\u001b[43mtensor\u001b[49m\u001b[43m(\u001b[49m\u001b[43mketj\u001b[49m\u001b[43m)\u001b[49m\u001b[43m)\u001b[49m)\n",
      "File \u001b[0;32m~/miniconda3/envs/qiskit-env/lib/python3.13/site-packages/qiskit/quantum_info/states/statevector.py:299\u001b[0m, in \u001b[0;36mStatevector.inner\u001b[0;34m(self, other)\u001b[0m\n\u001b[1;32m    297\u001b[0m     other \u001b[38;5;241m=\u001b[39m Statevector(other)\n\u001b[1;32m    298\u001b[0m \u001b[38;5;28;01mif\u001b[39;00m \u001b[38;5;28mself\u001b[39m\u001b[38;5;241m.\u001b[39mdims() \u001b[38;5;241m!=\u001b[39m other\u001b[38;5;241m.\u001b[39mdims():\n\u001b[0;32m--> 299\u001b[0m     \u001b[38;5;28;01mraise\u001b[39;00m QiskitError(\n\u001b[1;32m    300\u001b[0m         \u001b[38;5;124mf\u001b[39m\u001b[38;5;124m\"\u001b[39m\u001b[38;5;124mStatevector dimensions do not match: \u001b[39m\u001b[38;5;132;01m{\u001b[39;00m\u001b[38;5;28mself\u001b[39m\u001b[38;5;241m.\u001b[39mdims()\u001b[38;5;132;01m}\u001b[39;00m\u001b[38;5;124m and \u001b[39m\u001b[38;5;132;01m{\u001b[39;00mother\u001b[38;5;241m.\u001b[39mdims()\u001b[38;5;132;01m}\u001b[39;00m\u001b[38;5;124m.\u001b[39m\u001b[38;5;124m\"\u001b[39m\n\u001b[1;32m    301\u001b[0m     )\n\u001b[1;32m    302\u001b[0m inner \u001b[38;5;241m=\u001b[39m np\u001b[38;5;241m.\u001b[39mvdot(\u001b[38;5;28mself\u001b[39m\u001b[38;5;241m.\u001b[39mdata, other\u001b[38;5;241m.\u001b[39mdata)\n\u001b[1;32m    303\u001b[0m \u001b[38;5;28;01mreturn\u001b[39;00m inner\n",
      "\u001b[0;31mQiskitError\u001b[0m: 'Statevector dimensions do not match: (2, 2, 2, 2, 2) and (2, 2, 2, 2, 2, 2, 2).'"
     ]
    }
   ],
   "source": [
    "i = 0\n",
    "j = 10\n",
    "\n",
    "print((format(1, f'0{m}b'))[::-1])\n",
    "keti = Statevector.from_label((format(i, f'0{m}b'))[::-1])\n",
    "ketj = Statevector.from_label((format(j, f'0{m}b'))[::-1])\n",
    "print(keti)\n",
    "print(ketj)\n",
    "\n",
    "# Take tensor product of i with ket 0\n",
    "ket0 = Statevector.from_label('0')\n",
    "ket0r = Statevector.from_label('0'*r)\n",
    "\n",
    "print((((ket0.tensor(ket0r)).tensor(keti)).evolve(qc)).inner((ket0.tensor(ket0r)).tensor(ketj)))"
   ]
  },
  {
   "cell_type": "code",
   "execution_count": 43,
   "metadata": {},
   "outputs": [],
   "source": [
    "keti = Statevector.from_label((format(i, f'0{m}b'))[::-1])\n",
    "ketj = Statevector.from_label((format(j, f'0{m}b'))[::-1])"
   ]
  },
  {
   "cell_type": "code",
   "execution_count": 54,
   "metadata": {},
   "outputs": [
    {
     "name": "stdout",
     "output_type": "stream",
     "text": [
      "0.0781250000-0.0000000000j |00000>\n",
      "0.1815460944+0.0000000000j |00001>\n",
      "-0.4218750000+0.0000000000j |00010>\n",
      "0.1815460944+0.0000000000j |00011>\n",
      "-0.4218750000+0.0000000000j |00100>\n",
      "0.1815460944+0.0000000000j |00101>\n",
      "0.0781250000-0.0000000000j |00110>\n",
      "0.1815460944+0.0000000000j |00111>\n",
      "-0.0781250000-0.0000000000j |10000>\n",
      "0.2374794399-0.0000000000j |10001>\n",
      "-0.0781250000-0.0000000000j |10010>\n",
      "0.2374794399+0.0000000000j |10011>\n",
      "0.0781250000+0.0000000000j |10100>\n",
      "-0.2374794399-0.0000000000j |10101>\n",
      "0.0781250000+0.0000000000j |10110>\n",
      "-0.2374794399-0.0000000000j |10111>\n",
      "0.2500000000-0.0000000000j |11001>\n",
      "-0.2500000000+0.0000000000j |11011>\n",
      "0.2500000000-0.0000000000j |11101>\n",
      "-0.2500000000+0.0000000000j |11111>\n"
     ]
    }
   ],
   "source": [
    "psi_0 = Statevector.from_label('0'*m+'0'*r+'0')\n",
    "# psi_0.draw(\"latex\")\n",
    "psi_f = psi_0.evolve(qc)\n",
    "psi_f.draw('latex')\n",
    "\n",
    "\n",
    "# Expand the output\n",
    "amplitudes = psi_f.data\n",
    "num_qubits = len(psi_f.dims())\n",
    "basis_states = [format(i, f'0{num_qubits}b') for i in range(2**num_qubits)]\n",
    "\n",
    "# Print the expanded output\n",
    "for amplitude, basis_state in zip(amplitudes, basis_states):\n",
    "    if abs(amplitude) > 1e-10:  # Filter out very small amplitudes\n",
    "        print(f'{amplitude:.10f} |{basis_state}>')"
   ]
  },
  {
   "cell_type": "code",
   "execution_count": 52,
   "metadata": {},
   "outputs": [
    {
     "data": {
      "text/plain": [
       "np.complex128(0.07812499999999867-5.548944987594835e-16j)"
      ]
     },
     "execution_count": 52,
     "metadata": {},
     "output_type": "execute_result"
    }
   ],
   "source": [
    "(Operator(circuit).data)[1\n",
    "                         ,1]"
   ]
  }
 ],
 "metadata": {
  "kernelspec": {
   "display_name": "qiskit-env",
   "language": "python",
   "name": "python3"
  },
  "language_info": {
   "codemirror_mode": {
    "name": "ipython",
    "version": 3
   },
   "file_extension": ".py",
   "mimetype": "text/x-python",
   "name": "python",
   "nbconvert_exporter": "python",
   "pygments_lexer": "ipython3",
   "version": "3.13.0"
  }
 },
 "nbformat": 4,
 "nbformat_minor": 2
}
