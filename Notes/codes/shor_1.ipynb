{
 "cells": [
  {
   "cell_type": "code",
   "execution_count": 24,
   "metadata": {},
   "outputs": [
    {
     "data": {
      "text/latex": [
       "$$\n",
       "\n",
       "\\begin{bmatrix}\n",
       "\\frac{\\sqrt{2}}{2} & \\frac{\\sqrt{2}}{2}  \\\\\n",
       " \\frac{\\sqrt{2}}{2} & - \\frac{\\sqrt{2}}{2}  \\\\\n",
       " \\end{bmatrix}\n",
       "$$"
      ],
      "text/plain": [
       "<IPython.core.display.Latex object>"
      ]
     },
     "metadata": {},
     "output_type": "display_data"
    }
   ],
   "source": [
    "from qiskit.visualization import array_to_latex\n",
    "from qiskit.quantum_info import Statevector\n",
    "from qiskit.quantum_info.operators import Operator\n",
    "import math\n",
    "\n",
    "psi1 = Statevector([math.cos(math.pi / 8), math.sin(math.pi / 8)])\n",
    "psi2 = Statevector([math.cos(5 * math.pi / 8), math.sin(5 * math.pi / 8)])\n",
    "\n",
    "# When given a Statevector input, the Operator function returns the outer\n",
    "# product of that state vector with itself — or, in other words, the\n",
    "# product of the vector times its conjugate transpose.\n",
    "\n",
    "H = Operator(psi1) - Operator(psi2)\n",
    "\n",
    "display(array_to_latex(H))"
   ]
  },
  {
   "cell_type": "code",
   "execution_count": 25,
   "metadata": {},
   "outputs": [
    {
     "data": {
      "text/html": [
       "<pre style=\"word-wrap: normal;white-space: pre;background: #fff0;line-height: 1.1;font-family: &quot;Courier New&quot;,Courier,monospace\">           ░ ┌───┐          ┌───┐ ░ ┌─┐\n",
       "q_0: ──────░─┤ H ├─■────────┤ H ├─░─┤M├\n",
       "     ┌───┐ ░ └───┘ │P(7π/5) └───┘ ░ └╥┘\n",
       "q_1: ┤ X ├─░───────■──────────────░──╫─\n",
       "     └───┘ ░                      ░  ║ \n",
       "c: 1/════════════════════════════════╩═\n",
       "                                     0 </pre>"
      ],
      "text/plain": [
       "           ░ ┌───┐          ┌───┐ ░ ┌─┐\n",
       "q_0: ──────░─┤ H ├─■────────┤ H ├─░─┤M├\n",
       "     ┌───┐ ░ └───┘ │P(7π/5) └───┘ ░ └╥┘\n",
       "q_1: ┤ X ├─░───────■──────────────░──╫─\n",
       "     └───┘ ░                      ░  ║ \n",
       "c: 1/════════════════════════════════╩═\n",
       "                                     0 "
      ]
     },
     "metadata": {},
     "output_type": "display_data"
    }
   ],
   "source": [
    "from math import pi, cos, sin\n",
    "from qiskit import QuantumCircuit\n",
    "\n",
    "theta = 0.7  # Can be changed to any value between 0 and 1\n",
    "\n",
    "qc = QuantumCircuit(2, 1)\n",
    "\n",
    "# Prepare eigenvector, which is the |1> state\n",
    "\n",
    "qc.x(1)\n",
    "qc.barrier()\n",
    "\n",
    "# Implement the estimation procedure\n",
    "qc.h(0)\n",
    "qc.cp(2 * pi * theta, 0, 1)\n",
    "qc.h(0)\n",
    "qc.barrier()\n",
    "\n",
    "# Perform the final measurement\n",
    "qc.measure(0, 0)\n",
    "\n",
    "# Draw the circuit\n",
    "display(qc.draw())"
   ]
  },
  {
   "cell_type": "code",
   "execution_count": 26,
   "metadata": {},
   "outputs": [
    {
     "name": "stderr",
     "output_type": "stream",
     "text": [
      "C:\\Users\\nihar\\AppData\\Local\\Temp\\ipykernel_11372\\1644269935.py:3: DeprecationWarning: The class ``qiskit.primitives.sampler.Sampler`` is deprecated as of qiskit 1.2. It will be removed no earlier than 3 months after the release date. All implementations of the `BaseSamplerV1` interface have been deprecated in favor of their V2 counterparts. The V2 alternative for the `Sampler` class is `StatevectorSampler`.\n",
      "  display(Sampler().run(qc).result().quasi_dists[0])\n"
     ]
    },
    {
     "data": {
      "text/plain": [
       "{0: np.float64(0.345491502812526), 1: np.float64(0.654508497187474)}"
      ]
     },
     "metadata": {},
     "output_type": "display_data"
    }
   ],
   "source": [
    "from qiskit.primitives import Sampler\n",
    "\n",
    "display(Sampler().run(qc).result().quasi_dists[0])"
   ]
  },
  {
   "cell_type": "code",
   "execution_count": 27,
   "metadata": {},
   "outputs": [
    {
     "data": {
      "text/plain": [
       "{0: 0.34549150281252616, 1: 0.6545084971874737}"
      ]
     },
     "metadata": {},
     "output_type": "display_data"
    }
   ],
   "source": [
    "display({   # Calculate predicted results\n",
    "    0: cos(pi * theta) ** 2,\n",
    "    1: sin(pi * theta) ** 2\n",
    "})"
   ]
  },
  {
   "cell_type": "code",
   "execution_count": 28,
   "metadata": {},
   "outputs": [
    {
     "data": {
      "text/html": [
       "<pre style=\"word-wrap: normal;white-space: pre;background: #fff0;line-height: 1.1;font-family: &quot;Courier New&quot;,Courier,monospace\">           ░ ┌───┐ ░                       ░    ┌───┐                ░ ┌─┐   \n",
       "q_0: ──────░─┤ H ├─░──■────────────────────░──X─┤ H ├─■──────────────░─┤M├───\n",
       "           ░ ├───┤ ░  │                    ░  │ └───┘ │P(-π/2) ┌───┐ ░ └╥┘┌─┐\n",
       "q_1: ──────░─┤ H ├─░──┼─────────■──────────░──X───────■────────┤ H ├─░──╫─┤M├\n",
       "     ┌───┐ ░ └───┘ ░  │P(7π/5)  │P(14π/5)  ░                   └───┘ ░  ║ └╥┘\n",
       "q_2: ┤ X ├─░───────░──■─────────■──────────░─────────────────────────░──╫──╫─\n",
       "     └───┘ ░       ░                       ░                         ░  ║  ║ \n",
       "c: 2/═══════════════════════════════════════════════════════════════════╩══╩═\n",
       "                                                                        0  1 </pre>"
      ],
      "text/plain": [
       "           ░ ┌───┐ ░                       ░    ┌───┐                ░ ┌─┐   \n",
       "q_0: ──────░─┤ H ├─░──■────────────────────░──X─┤ H ├─■──────────────░─┤M├───\n",
       "           ░ ├───┤ ░  │                    ░  │ └───┘ │P(-π/2) ┌───┐ ░ └╥┘┌─┐\n",
       "q_1: ──────░─┤ H ├─░──┼─────────■──────────░──X───────■────────┤ H ├─░──╫─┤M├\n",
       "     ┌───┐ ░ └───┘ ░  │P(7π/5)  │P(14π/5)  ░                   └───┘ ░  ║ └╥┘\n",
       "q_2: ┤ X ├─░───────░──■─────────■──────────░─────────────────────────░──╫──╫─\n",
       "     └───┘ ░       ░                       ░                         ░  ║  ║ \n",
       "c: 2/═══════════════════════════════════════════════════════════════════╩══╩═\n",
       "                                                                        0  1 "
      ]
     },
     "metadata": {},
     "output_type": "display_data"
    }
   ],
   "source": [
    "from math import pi\n",
    "from qiskit import QuantumCircuit\n",
    "\n",
    "theta = 0.7\n",
    "qc = QuantumCircuit(3, 2)\n",
    "\n",
    "# Prepare the eigenvector\n",
    "qc.x(2)\n",
    "qc.barrier()\n",
    "\n",
    "# The initial Hadamard gates\n",
    "qc.h(0)\n",
    "qc.h(1)\n",
    "qc.barrier()\n",
    "\n",
    "# The controlled unitary gates\n",
    "qc.cp(2 * pi * theta, 0, 2)\n",
    "qc.cp(2 * pi * (2 * theta), 1, 2)\n",
    "qc.barrier()\n",
    "\n",
    "# An implementation of the inverse of the two-qubit QFT\n",
    "qc.swap(0, 1)\n",
    "qc.h(0)\n",
    "qc.cp(-pi / 2, 0, 1)\n",
    "qc.h(1)\n",
    "qc.barrier()\n",
    "\n",
    "# And finally the measurements\n",
    "qc.measure([0, 1], [0, 1])\n",
    "display(qc.draw())"
   ]
  },
  {
   "cell_type": "code",
   "execution_count": 29,
   "metadata": {},
   "outputs": [
    {
     "name": "stderr",
     "output_type": "stream",
     "text": [
      "C:\\Users\\nihar\\AppData\\Local\\Temp\\ipykernel_11372\\3145071669.py:3: DeprecationWarning: The class ``qiskit.primitives.sampler.Sampler`` is deprecated as of qiskit 1.2. It will be removed no earlier than 3 months after the release date. All implementations of the `BaseSamplerV1` interface have been deprecated in favor of their V2 counterparts. The V2 alternative for the `Sampler` class is `StatevectorSampler`.\n",
      "  result = Sampler().run(qc).result()\n"
     ]
    },
    {
     "data": {
      "image/png": "[encoded data removed]",
      "text/plain": [
       "<Figure size 640x480 with 1 Axes>"
      ]
     },
     "metadata": {},
     "output_type": "display_data"
    }
   ],
   "source": [
    "from qiskit.visualization import plot_histogram\n",
    "\n",
    "result = Sampler().run(qc).result()\n",
    "display(plot_histogram(result.quasi_dists))"
   ]
  },
  {
   "cell_type": "code",
   "execution_count": 30,
   "metadata": {},
   "outputs": [
    {
     "data": {
      "text/html": [
       "<pre style=\"word-wrap: normal;white-space: pre;background: #fff0;line-height: 1.1;font-family: &quot;Courier New&quot;,Courier,monospace\">                                                                          ┌───┐»\n",
       "q_0: ──────────────────────────────────────■─────────────■────────■───────┤ H ├»\n",
       "                                           │       ┌───┐ │        │P(π/2) └───┘»\n",
       "q_1: ────────────────────■────────■────────┼───────┤ H ├─┼────────■─────────X──»\n",
       "                   ┌───┐ │        │P(π/2)  │       └───┘ │P(π/4)            │  »\n",
       "q_2: ──────■───────┤ H ├─┼────────■────────┼─────────────■──────────────────X──»\n",
       "     ┌───┐ │P(π/2) └───┘ │P(π/4)           │P(π/8)                             »\n",
       "q_3: ┤ H ├─■─────────────■─────────────────■───────────────────────────────────»\n",
       "     └───┘                                                                     »\n",
       "«        \n",
       "«q_0: ─X─\n",
       "«      │ \n",
       "«q_1: ─┼─\n",
       "«      │ \n",
       "«q_2: ─┼─\n",
       "«      │ \n",
       "«q_3: ─X─\n",
       "«        </pre>"
      ],
      "text/plain": [
       "                                                                          ┌───┐»\n",
       "q_0: ──────────────────────────────────────■─────────────■────────■───────┤ H ├»\n",
       "                                           │       ┌───┐ │        │P(π/2) └───┘»\n",
       "q_1: ────────────────────■────────■────────┼───────┤ H ├─┼────────■─────────X──»\n",
       "                   ┌───┐ │        │P(π/2)  │       └───┘ │P(π/4)            │  »\n",
       "q_2: ──────■───────┤ H ├─┼────────■────────┼─────────────■──────────────────X──»\n",
       "     ┌───┐ │P(π/2) └───┘ │P(π/4)           │P(π/8)                             »\n",
       "q_3: ┤ H ├─■─────────────■─────────────────■───────────────────────────────────»\n",
       "     └───┘                                                                     »\n",
       "«        \n",
       "«q_0: ─X─\n",
       "«      │ \n",
       "«q_1: ─┼─\n",
       "«      │ \n",
       "«q_2: ─┼─\n",
       "«      │ \n",
       "«q_3: ─X─\n",
       "«        "
      ]
     },
     "metadata": {},
     "output_type": "display_data"
    }
   ],
   "source": [
    "from qiskit.circuit.library import QFT\n",
    "\n",
    "display(QFT(4).decompose().draw())"
   ]
  },
  {
   "cell_type": "code",
   "execution_count": 40,
   "metadata": {},
   "outputs": [
    {
     "data": {
      "image/png": "[encoded data removed]",
      "text/plain": [
       "<Figure size 2130.06x451.5 with 1 Axes>"
      ]
     },
     "metadata": {},
     "output_type": "display_data"
    }
   ],
   "source": [
    "from qiskit import QuantumCircuit, QuantumRegister, ClassicalRegister\n",
    "from qiskit.circuit.library import QFT\n",
    "\n",
    "theta = 0.7\n",
    "m = 3  # Number of control qubits\n",
    "\n",
    "control_register = QuantumRegister(m, name=\"Control\")\n",
    "target_register = QuantumRegister(1, name=\"|ψ>\")\n",
    "output_register = ClassicalRegister(m, name=\"Result\")\n",
    "qc = QuantumCircuit(control_register, target_register, output_register)\n",
    "\n",
    "# Prepare the eigenvector |ψ>\n",
    "qc.x(target_register)\n",
    "qc.barrier()\n",
    "\n",
    "# Perform phase estimation\n",
    "for index, qubit in enumerate(control_register):\n",
    "    qc.h(qubit)\n",
    "    for _ in range(2**index):\n",
    "        qc.cp(2 * pi * theta, qubit, target_register)\n",
    "qc.barrier()\n",
    "\n",
    "# Do inverse quantum Fourier transform\n",
    "qc.compose(\n",
    "    QFT(m, inverse=True),\n",
    "    inplace=True\n",
    ")\n",
    "\n",
    "# Measure everything\n",
    "qc.measure(range(m), range(m))\n",
    "display(qc.draw('mpl'))"
   ]
  },
  {
   "cell_type": "code",
   "execution_count": 32,
   "metadata": {},
   "outputs": [
    {
     "name": "stderr",
     "output_type": "stream",
     "text": [
      "C:\\Users\\nihar\\AppData\\Local\\Temp\\ipykernel_11372\\1768351024.py:1: DeprecationWarning: The class ``qiskit.primitives.sampler.Sampler`` is deprecated as of qiskit 1.2. It will be removed no earlier than 3 months after the release date. All implementations of the `BaseSamplerV1` interface have been deprecated in favor of their V2 counterparts. The V2 alternative for the `Sampler` class is `StatevectorSampler`.\n",
      "  result = Sampler().run(qc).result()\n"
     ]
    },
    {
     "data": {
      "image/png": "[encoded data removed]",
      "text/plain": [
       "<Figure size 640x480 with 1 Axes>"
      ]
     },
     "metadata": {},
     "output_type": "display_data"
    }
   ],
   "source": [
    "result = Sampler().run(qc).result()\n",
    "display(plot_histogram(result.quasi_dists))"
   ]
  },
  {
   "cell_type": "code",
   "execution_count": 33,
   "metadata": {},
   "outputs": [
    {
     "name": "stdout",
     "output_type": "stream",
     "text": [
      "Most probable output: 6\n",
      "Estimated theta: 0.75\n"
     ]
    }
   ],
   "source": [
    "most_probable = max(result.quasi_dists[0], key=result.quasi_dists[0].get)\n",
    "\n",
    "print(f\"Most probable output: {most_probable}\")\n",
    "print(f\"Estimated theta: {most_probable/2**m}\")"
   ]
  },
  {
   "cell_type": "code",
   "execution_count": 34,
   "metadata": {},
   "outputs": [
    {
     "name": "stdout",
     "output_type": "stream",
     "text": [
      "k \t a^k \n",
      "\n",
      " 1 \t 17\n",
      " 2 \t 16\n",
      " 3 \t 20\n",
      " 4 \t  4\n",
      " 5 \t  5\n",
      " 6 \t  1\n",
      " 7 \t 17\n",
      " 8 \t 16\n",
      " 9 \t 20\n",
      "10 \t  4\n",
      "11 \t  5\n",
      "12 \t  1\n"
     ]
    }
   ],
   "source": [
    "N = 21\n",
    "a = 17\n",
    "max_power = 12\n",
    "\n",
    "print(\"k \\t a^k \\n\")\n",
    "for k in range(1, max_power + 1):\n",
    "    print(\n",
    "        \"%2d \\t %2d\" % (k, a**k % N)\n",
    "    )  # The % operation computes the remainder modulo N"
   ]
  },
  {
   "cell_type": "code",
   "execution_count": 35,
   "metadata": {},
   "outputs": [
    {
     "name": "stdout",
     "output_type": "stream",
     "text": [
      "k \t a^k \n",
      "\n",
      " 1 \t 18\n",
      " 2 \t  9\n",
      " 3 \t 15\n",
      " 4 \t 18\n",
      " 5 \t  9\n",
      " 6 \t 15\n",
      " 7 \t 18\n",
      " 8 \t  9\n",
      " 9 \t 15\n",
      "10 \t 18\n",
      "11 \t  9\n",
      "12 \t 15\n"
     ]
    }
   ],
   "source": [
    "N = 21\n",
    "a = 18\n",
    "max_power = 12\n",
    "\n",
    "print(\"k \\t a^k \\n\")\n",
    "for k in range(1, max_power + 1):\n",
    "    print(\"%2d \\t %2d\" % (k, a**k % N))"
   ]
  },
  {
   "cell_type": "code",
   "execution_count": 36,
   "metadata": {},
   "outputs": [],
   "source": [
    "def c_amod15(a):\n",
    "    \"\"\"\n",
    "    Controlled multiplication by a mod 15.\n",
    "    This is hard-coded for simplicity.\n",
    "    \"\"\"\n",
    "    if a not in [2, 4, 7, 8, 11, 13]:\n",
    "        raise ValueError(\"'a' must not have common factors with 15\")\n",
    "    U = QuantumCircuit(4)\n",
    "    if a in [2, 13]:\n",
    "        U.swap(2, 3)\n",
    "        U.swap(1, 2)\n",
    "        U.swap(0, 1)\n",
    "    if a in [7, 8]:\n",
    "        U.swap(0, 1)\n",
    "        U.swap(1, 2)\n",
    "        U.swap(2, 3)\n",
    "    if a in [4, 11]:\n",
    "        U.swap(1, 3)\n",
    "        U.swap(0, 2)\n",
    "    if a in [7, 11, 13]:\n",
    "        for q in range(4):\n",
    "            U.x(q)\n",
    "    U = U.to_gate()\n",
    "    U.name = f\"{a} mod 15\"\n",
    "    c_U = U.control()\n",
    "    return c_U"
   ]
  },
  {
   "cell_type": "code",
   "execution_count": 37,
   "metadata": {},
   "outputs": [],
   "source": [
    "def phase_estimation(\n",
    "        controlled_operation: QuantumCircuit,\n",
    "        psi_prep: QuantumCircuit,\n",
    "        precision: int\n",
    "    ):\n",
    "    \"\"\"\n",
    "    Carry out phase estimation on a simulator.\n",
    "    Args:\n",
    "        controlled_operation: The operation to perform phase estimation on,\n",
    "                              controlled by one qubit.\n",
    "        psi_prep: Circuit to prepare |ψ>\n",
    "        precision: Number of counting qubits to use\n",
    "    Returns:\n",
    "        float: Best guess for phase of U|ψ>\n",
    "    \"\"\"\n",
    "    control_register = QuantumRegister(precision)\n",
    "    output_register = ClassicalRegister(precision)\n",
    "\n",
    "    target_register = QuantumRegister(psi_prep.num_qubits)\n",
    "    qc = QuantumCircuit(control_register, target_register, output_register)\n",
    "\n",
    "    # Prepare |ψ>\n",
    "    qc.compose(psi_prep,\n",
    "               qubits=target_register,\n",
    "               inplace=True)\n",
    "\n",
    "    # Do phase estimation\n",
    "    for index, qubit in enumerate(control_register):\n",
    "        qc.h(qubit)\n",
    "        for _ in range(2**index):\n",
    "            qc.compose(\n",
    "                controlled_operation,\n",
    "                qubits=[qubit] + list(target_register),\n",
    "                inplace=True,\n",
    "            )\n",
    "\n",
    "    qc.compose(\n",
    "        QFT(precision, inverse=True),\n",
    "        qubits=control_register,\n",
    "        inplace=True\n",
    "    )\n",
    "\n",
    "    qc.measure(control_register, output_register)\n",
    "\n",
    "    measurement = Sampler().run(qc, shots=1).result().quasi_dists[0].popitem()[0]\n",
    "    return measurement / 2**precision"
   ]
  },
  {
   "cell_type": "code",
   "execution_count": 38,
   "metadata": {},
   "outputs": [
    {
     "data": {
      "text/html": [
       "<pre style=\"word-wrap: normal;white-space: pre;background: #fff0;line-height: 1.1;font-family: &quot;Courier New&quot;,Courier,monospace\">     ┌───┐\n",
       "q_0: ┤ X ├\n",
       "     └───┘\n",
       "q_1: ─────\n",
       "          \n",
       "q_2: ─────\n",
       "          \n",
       "q_3: ─────\n",
       "          </pre>"
      ],
      "text/plain": [
       "     ┌───┐\n",
       "q_0: ┤ X ├\n",
       "     └───┘\n",
       "q_1: ─────\n",
       "          \n",
       "q_2: ─────\n",
       "          \n",
       "q_3: ─────\n",
       "          "
      ]
     },
     "metadata": {},
     "output_type": "display_data"
    }
   ],
   "source": [
    "psi_prep = QuantumCircuit(4)\n",
    "psi_prep.x(0)\n",
    "display(psi_prep.draw())"
   ]
  },
  {
   "cell_type": "code",
   "execution_count": 39,
   "metadata": {},
   "outputs": [
    {
     "name": "stdout",
     "output_type": "stream",
     "text": [
      "\n",
      "Attempt 1\n"
     ]
    },
    {
     "name": "stderr",
     "output_type": "stream",
     "text": [
      "C:\\Users\\nihar\\AppData\\Local\\Temp\\ipykernel_11372\\2139659180.py:45: DeprecationWarning: The class ``qiskit.primitives.sampler.Sampler`` is deprecated as of qiskit 1.2. It will be removed no earlier than 3 months after the release date. All implementations of the `BaseSamplerV1` interface have been deprecated in favor of their V2 counterparts. The V2 alternative for the `Sampler` class is `StatevectorSampler`.\n",
      "  measurement = Sampler().run(qc, shots=1).result().quasi_dists[0].popitem()[0]\n"
     ]
    },
    {
     "name": "stdout",
     "output_type": "stream",
     "text": [
      "Non-trivial factor found: 3\n"
     ]
    }
   ],
   "source": [
    "from fractions import Fraction\n",
    "from math import gcd\n",
    "\n",
    "a = 8\n",
    "N = 15\n",
    "\n",
    "FACTOR_FOUND = False\n",
    "ATTEMPT = 0\n",
    "while not FACTOR_FOUND:\n",
    "    ATTEMPT += 1\n",
    "    print(f\"\\nAttempt {ATTEMPT}\")\n",
    "\n",
    "    phase = phase_estimation(\n",
    "        c_amod15(a),\n",
    "        psi_prep,\n",
    "        precision=8\n",
    "    )\n",
    "    frac = Fraction(phase).limit_denominator(N)\n",
    "    r = frac.denominator\n",
    "    if phase != 0:\n",
    "        # Guess for a factor is gcd(x^{r/2} - 1 , 15)\n",
    "        guess = gcd(a ** (r // 2) - 1, N)\n",
    "        if guess not in [1, N] and (N % guess) == 0:\n",
    "            # Guess is a factor!\n",
    "            print(f\"Non-trivial factor found: {guess}\")\n",
    "            FACTOR_FOUND = True"
   ]
  }
 ],
 "metadata": {
  "kernelspec": {
   "display_name": "Python 3",
   "language": "python",
   "name": "python3"
  },
  "language_info": {
   "codemirror_mode": {
    "name": "ipython",
    "version": 3
   },
   "file_extension": ".py",
   "mimetype": "text/x-python",
   "name": "python",
   "nbconvert_exporter": "python",
   "pygments_lexer": "ipython3",
   "version": "3.12.4"
  }
 },
 "nbformat": 4,
 "nbformat_minor": 2
}
