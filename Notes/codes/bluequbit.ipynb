{
 "cells": [
  {
   "cell_type": "code",
   "execution_count": 1,
   "metadata": {},
   "outputs": [],
   "source": [
    "import bluequbit\n",
    "from qiskit import QuantumCircuit"
   ]
  },
  {
   "cell_type": "code",
   "execution_count": 5,
   "metadata": {},
   "outputs": [
    {
     "name": "stderr",
     "output_type": "stream",
     "text": [
      "\u001b[36m[BQ-PYTHON-SDK]\u001b[0m[\u001b[33mWARNING\u001b[0m] - Beta version 0.11.0b1 of BlueQubit Python SDK is being used.\u001b[0m\n"
     ]
    },
    {
     "name": "stdout",
     "output_type": "stream",
     "text": [
      "\u001b[36m[BQ-PYTHON-SDK]\u001b[0m[\u001b[32mINFO\u001b[0m] - Submitted: Job ID: GbJFI1IUpUxLM3XW, device: cpu, run status: PENDING, created on: 2025-04-02 03:56:52 UTC, estimated runtime: 100 ms, estimated cost: $0.00, num qubits: 4\u001b[0m\n",
      "{'0000': 0.0625, '0001': 0.0625, '0010': 0.0625, '0011': 0.0625, '0100': 0.0625, '0101': 0.0625, '0110': 0.0625, '0111': 0.0625, '1000': 0.0625, '1001': 0.0625, '1010': 0.0625, '1011': 0.0625, '1100': 0.0625, '1101': 0.0625, '1110': 0.0625, '1111': 0.0625}\n"
     ]
    }
   ],
   "source": [
    "qc_qiskit = QuantumCircuit(4)\n",
    "qc_qiskit.h(0)\n",
    "qc_qiskit.h(1)\n",
    "qc_qiskit.h(2)\n",
    "qc_qiskit.h(3)\n",
    "qc_qiskit.measure_all()\n",
    "\n",
    "# bq = bluequbit.init(\"VTlVuO1JVQx95GiJBm7VmkaSzrlp1Oyk\")\n",
    "# result = bq.run(qc_qiskit, device='quantum', shots=100) # <-- Quantum Magic\n",
    "# print(result.get_counts())\n",
    "\n",
    "bq = bluequbit.init(\"VTlVuO1JVQx95GiJBm7VmkaSzrlp1Oyk\")\n",
    "result = bq.run(qc_qiskit)\n",
    "print(result.get_counts())"
   ]
  },
  {
   "cell_type": "code",
   "execution_count": null,
   "metadata": {},
   "outputs": [],
   "source": []
  }
 ],
 "metadata": {
  "kernelspec": {
   "display_name": "Python 3",
   "language": "python",
   "name": "python3"
  },
  "language_info": {
   "codemirror_mode": {
    "name": "ipython",
    "version": 3
   },
   "file_extension": ".py",
   "mimetype": "text/x-python",
   "name": "python",
   "nbconvert_exporter": "python",
   "pygments_lexer": "ipython3",
   "version": "3.12.4"
  }
 },
 "nbformat": 4,
 "nbformat_minor": 2
}
