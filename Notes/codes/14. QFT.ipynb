{
 "cells": [
  {
   "cell_type": "markdown",
   "metadata": {},
   "source": [
    "# QFT"
   ]
  },
  {
   "cell_type": "code",
   "execution_count": 132,
   "metadata": {},
   "outputs": [],
   "source": [
    "from qiskit import QuantumCircuit\n",
    "import qiskit.quantum_info as qi\n",
    "from qiskit.circuit.library import QFT\n",
    "from qiskit import transpile\n",
    "from qiskit_aer import AerSimulator\n",
    "\n",
    "simulator=AerSimulator()"
   ]
  },
  {
   "cell_type": "code",
   "execution_count": 133,
   "metadata": {},
   "outputs": [],
   "source": [
    "import numpy as np"
   ]
  },
  {
   "cell_type": "code",
   "execution_count": 134,
   "metadata": {},
   "outputs": [
    {
     "data": {
      "image/png": "[encoded data removed]",
      "text/plain": [
       "<Figure size 454.719x284.278 with 1 Axes>"
      ]
     },
     "execution_count": 134,
     "metadata": {},
     "output_type": "execute_result"
    }
   ],
   "source": [
    "n=3\n",
    "qc_QFT = QuantumCircuit(n)\n",
    "qc_QFT.append(QFT(n), range(n))\n",
    "qc_QFT.save_statevector()\n",
    "qc_QFT.draw('mpl',filename='../images/QFT.png')"
   ]
  },
  {
   "cell_type": "code",
   "execution_count": 135,
   "metadata": {},
   "outputs": [
    {
     "data": {
      "text/latex": [
       "$${\\ket{\\psi} = }\\frac{\\sqrt{2}}{4} |000\\rangle+\\frac{\\sqrt{2}}{4} |001\\rangle+\\frac{\\sqrt{2}}{4} |010\\rangle+\\frac{\\sqrt{2}}{4} |011\\rangle+\\frac{\\sqrt{2}}{4} |100\\rangle+\\frac{\\sqrt{2}}{4} |101\\rangle+\\frac{\\sqrt{2}}{4} |110\\rangle+\\frac{\\sqrt{2}}{4} |111\\rangle$$"
      ],
      "text/plain": [
       "<IPython.core.display.Latex object>"
      ]
     },
     "execution_count": 135,
     "metadata": {},
     "output_type": "execute_result"
    }
   ],
   "source": [
    "results_QFT = simulator.run(transpile(qc_QFT,simulator)).result()\n",
    "psi=results_QFT.get_statevector()\n",
    "psi.draw('latex', prefix='{\\\\ket{\\\\psi} = }')"
   ]
  },
  {
   "cell_type": "markdown",
   "metadata": {},
   "source": [
    "NOte that in case of Qiskit because the notation is Little Endian, the qubits are reversed. So, the qubit 0 is the last one in the list and thus we implement the QFT as show in the figure"
   ]
  },
  {
   "cell_type": "code",
   "execution_count": 136,
   "metadata": {},
   "outputs": [
    {
     "data": {
      "image/png": "[encoded data removed]",
      "text/plain": [
       "<Figure size 1207.22x284.278 with 1 Axes>"
      ]
     },
     "execution_count": 136,
     "metadata": {},
     "output_type": "execute_result"
    }
   ],
   "source": [
    "def QFT_custom(n):\n",
    "    qc_QFT_custom = QuantumCircuit(n, name='QFT')\n",
    "    for i in range(n-1,-1,-1):\n",
    "        qc_QFT_custom.h(i)\n",
    "        for j in range(i-1,-1,-1):\n",
    "            qc_QFT_custom.cp(np.pi/2**(i-j),j,i)\n",
    "\n",
    "    for i in range(n//2):\n",
    "        qc_QFT_custom.swap(i,n-i-1)\n",
    "\n",
    "    return qc_QFT_custom\n",
    "\n",
    "#qc_QFT_custom = QuantumCircuit(n)\n",
    "#qc_QFT_custom.append(QFT_custom(n), range(n))\n",
    "qc_QFT_custom = QFT_custom(n)\n",
    "qc_QFT_custom.save_statevector()\n",
    "# save it in images folder\n",
    "qc_QFT_custom.draw('mpl', filename='../images/qft_custom.png')\n"
   ]
  },
  {
   "cell_type": "code",
   "execution_count": 137,
   "metadata": {},
   "outputs": [
    {
     "data": {
      "text/latex": [
       "$${\\ket{\\psi} = }\\frac{\\sqrt{2}}{4} |000\\rangle+\\frac{\\sqrt{2}}{4} |001\\rangle+\\frac{\\sqrt{2}}{4} |010\\rangle+\\frac{\\sqrt{2}}{4} |011\\rangle+\\frac{\\sqrt{2}}{4} |100\\rangle+\\frac{\\sqrt{2}}{4} |101\\rangle+\\frac{\\sqrt{2}}{4} |110\\rangle+\\frac{\\sqrt{2}}{4} |111\\rangle$$"
      ],
      "text/plain": [
       "<IPython.core.display.Latex object>"
      ]
     },
     "execution_count": 137,
     "metadata": {},
     "output_type": "execute_result"
    }
   ],
   "source": [
    "qc_transpiled= transpile(qc_QFT_custom,simulator)\n",
    "result = simulator.run(transpile(qc_QFT_custom,simulator)).result()\n",
    "psi_custom = result.get_statevector()\n",
    "psi_custom.draw('latex', prefix='{\\\\ket{\\\\psi} = }')"
   ]
  },
  {
   "cell_type": "code",
   "execution_count": 138,
   "metadata": {},
   "outputs": [
    {
     "name": "stdout",
     "output_type": "stream",
     "text": [
      "[[ 3.53553391e-01+0.j          3.53553391e-01+0.j\n",
      "   3.53553391e-01+0.j          3.53553391e-01+0.j\n",
      "   3.53553391e-01+0.j          3.53553391e-01+0.j\n",
      "   3.53553391e-01+0.j          3.53553391e-01+0.j        ]\n",
      " [ 3.53553391e-01+0.j          2.50000000e-01+0.25j\n",
      "   2.16489014e-17+0.35355339j -2.50000000e-01+0.25j\n",
      "  -3.53553391e-01+0.j         -2.50000000e-01-0.25j\n",
      "  -2.16489014e-17-0.35355339j  2.50000000e-01-0.25j      ]\n",
      " [ 3.53553391e-01+0.j          2.16489014e-17+0.35355339j\n",
      "  -3.53553391e-01+0.j         -2.16489014e-17-0.35355339j\n",
      "   3.53553391e-01+0.j          2.16489014e-17+0.35355339j\n",
      "  -3.53553391e-01+0.j         -2.16489014e-17-0.35355339j]\n",
      " [ 3.53553391e-01+0.j         -2.50000000e-01+0.25j\n",
      "  -2.16489014e-17-0.35355339j  2.50000000e-01+0.25j\n",
      "  -3.53553391e-01+0.j          2.50000000e-01-0.25j\n",
      "   2.16489014e-17+0.35355339j -2.50000000e-01-0.25j      ]\n",
      " [ 3.53553391e-01+0.j         -3.53553391e-01+0.j\n",
      "   3.53553391e-01+0.j         -3.53553391e-01+0.j\n",
      "   3.53553391e-01+0.j         -3.53553391e-01+0.j\n",
      "   3.53553391e-01+0.j         -3.53553391e-01+0.j        ]\n",
      " [ 3.53553391e-01+0.j         -2.50000000e-01-0.25j\n",
      "   2.16489014e-17+0.35355339j  2.50000000e-01-0.25j\n",
      "  -3.53553391e-01+0.j          2.50000000e-01+0.25j\n",
      "  -2.16489014e-17-0.35355339j -2.50000000e-01+0.25j      ]\n",
      " [ 3.53553391e-01+0.j         -2.16489014e-17-0.35355339j\n",
      "  -3.53553391e-01+0.j          2.16489014e-17+0.35355339j\n",
      "   3.53553391e-01+0.j         -2.16489014e-17-0.35355339j\n",
      "  -3.53553391e-01+0.j          2.16489014e-17+0.35355339j]\n",
      " [ 3.53553391e-01+0.j          2.50000000e-01-0.25j\n",
      "  -2.16489014e-17-0.35355339j -2.50000000e-01-0.25j\n",
      "  -3.53553391e-01+0.j         -2.50000000e-01+0.25j\n",
      "   2.16489014e-17+0.35355339j  2.50000000e-01+0.25j      ]]\n"
     ]
    }
   ],
   "source": [
    "QFT_matrix = qi.Operator(QFT(n))\n",
    "print(QFT_matrix.data)"
   ]
  },
  {
   "cell_type": "code",
   "execution_count": 139,
   "metadata": {},
   "outputs": [
    {
     "name": "stdout",
     "output_type": "stream",
     "text": [
      "[[ 3.53553391e-01+0.j          3.53553391e-01+0.j\n",
      "   3.53553391e-01+0.j          3.53553391e-01+0.j\n",
      "   3.53553391e-01+0.j          3.53553391e-01+0.j\n",
      "   3.53553391e-01+0.j          3.53553391e-01+0.j        ]\n",
      " [ 3.53553391e-01+0.j          2.50000000e-01+0.25j\n",
      "   2.16489014e-17+0.35355339j -2.50000000e-01+0.25j\n",
      "  -3.53553391e-01+0.j         -2.50000000e-01-0.25j\n",
      "  -2.16489014e-17-0.35355339j  2.50000000e-01-0.25j      ]\n",
      " [ 3.53553391e-01+0.j          2.16489014e-17+0.35355339j\n",
      "  -3.53553391e-01+0.j         -2.16489014e-17-0.35355339j\n",
      "   3.53553391e-01+0.j          2.16489014e-17+0.35355339j\n",
      "  -3.53553391e-01+0.j         -2.16489014e-17-0.35355339j]\n",
      " [ 3.53553391e-01+0.j         -2.50000000e-01+0.25j\n",
      "  -2.16489014e-17-0.35355339j  2.50000000e-01+0.25j\n",
      "  -3.53553391e-01+0.j          2.50000000e-01-0.25j\n",
      "   2.16489014e-17+0.35355339j -2.50000000e-01-0.25j      ]\n",
      " [ 3.53553391e-01+0.j         -3.53553391e-01+0.j\n",
      "   3.53553391e-01+0.j         -3.53553391e-01+0.j\n",
      "   3.53553391e-01+0.j         -3.53553391e-01+0.j\n",
      "   3.53553391e-01+0.j         -3.53553391e-01+0.j        ]\n",
      " [ 3.53553391e-01+0.j         -2.50000000e-01-0.25j\n",
      "   2.16489014e-17+0.35355339j  2.50000000e-01-0.25j\n",
      "  -3.53553391e-01+0.j          2.50000000e-01+0.25j\n",
      "  -2.16489014e-17-0.35355339j -2.50000000e-01+0.25j      ]\n",
      " [ 3.53553391e-01+0.j         -2.16489014e-17-0.35355339j\n",
      "  -3.53553391e-01+0.j          2.16489014e-17+0.35355339j\n",
      "   3.53553391e-01+0.j         -2.16489014e-17-0.35355339j\n",
      "  -3.53553391e-01+0.j          2.16489014e-17+0.35355339j]\n",
      " [ 3.53553391e-01+0.j          2.50000000e-01-0.25j\n",
      "  -2.16489014e-17-0.35355339j -2.50000000e-01-0.25j\n",
      "  -3.53553391e-01+0.j         -2.50000000e-01+0.25j\n",
      "   2.16489014e-17+0.35355339j  2.50000000e-01+0.25j      ]]\n"
     ]
    }
   ],
   "source": [
    "custom_QFT_matrix = qi.Operator(QFT_custom(n))\n",
    "print(custom_QFT_matrix.data)"
   ]
  },
  {
   "cell_type": "code",
   "execution_count": 140,
   "metadata": {},
   "outputs": [
    {
     "data": {
      "text/plain": [
       "array([[ 3.53553391e-01+0.j        ,  3.53553391e-01+0.j        ,\n",
       "         3.53553391e-01+0.j        ,  3.53553391e-01+0.j        ,\n",
       "         3.53553391e-01+0.j        ,  3.53553391e-01+0.j        ,\n",
       "         3.53553391e-01+0.j        ,  3.53553391e-01+0.j        ],\n",
       "       [ 3.53553391e-01+0.j        ,  2.50000000e-01-0.25j      ,\n",
       "         2.16489014e-17-0.35355339j, -2.50000000e-01-0.25j      ,\n",
       "        -3.53553391e-01+0.j        , -2.50000000e-01+0.25j      ,\n",
       "        -2.16489014e-17+0.35355339j,  2.50000000e-01+0.25j      ],\n",
       "       [ 3.53553391e-01+0.j        ,  2.16489014e-17-0.35355339j,\n",
       "        -3.53553391e-01+0.j        , -2.16489014e-17+0.35355339j,\n",
       "         3.53553391e-01+0.j        ,  2.16489014e-17-0.35355339j,\n",
       "        -3.53553391e-01+0.j        , -2.16489014e-17+0.35355339j],\n",
       "       [ 3.53553391e-01+0.j        , -2.50000000e-01-0.25j      ,\n",
       "        -2.16489014e-17+0.35355339j,  2.50000000e-01-0.25j      ,\n",
       "        -3.53553391e-01+0.j        ,  2.50000000e-01+0.25j      ,\n",
       "         2.16489014e-17-0.35355339j, -2.50000000e-01+0.25j      ],\n",
       "       [ 3.53553391e-01+0.j        , -3.53553391e-01+0.j        ,\n",
       "         3.53553391e-01+0.j        , -3.53553391e-01+0.j        ,\n",
       "         3.53553391e-01+0.j        , -3.53553391e-01+0.j        ,\n",
       "         3.53553391e-01+0.j        , -3.53553391e-01+0.j        ],\n",
       "       [ 3.53553391e-01+0.j        , -2.50000000e-01+0.25j      ,\n",
       "         2.16489014e-17-0.35355339j,  2.50000000e-01+0.25j      ,\n",
       "        -3.53553391e-01+0.j        ,  2.50000000e-01-0.25j      ,\n",
       "        -2.16489014e-17+0.35355339j, -2.50000000e-01-0.25j      ],\n",
       "       [ 3.53553391e-01+0.j        , -2.16489014e-17+0.35355339j,\n",
       "        -3.53553391e-01+0.j        ,  2.16489014e-17-0.35355339j,\n",
       "         3.53553391e-01+0.j        , -2.16489014e-17+0.35355339j,\n",
       "        -3.53553391e-01+0.j        ,  2.16489014e-17-0.35355339j],\n",
       "       [ 3.53553391e-01+0.j        ,  2.50000000e-01+0.25j      ,\n",
       "        -2.16489014e-17+0.35355339j, -2.50000000e-01+0.25j      ,\n",
       "        -3.53553391e-01+0.j        , -2.50000000e-01-0.25j      ,\n",
       "         2.16489014e-17-0.35355339j,  2.50000000e-01-0.25j      ]])"
      ]
     },
     "execution_count": 140,
     "metadata": {},
     "output_type": "execute_result"
    }
   ],
   "source": [
    "def QFT_dagger_matrix(n):\n",
    "    QFT_dagger_matrix = qi.Operator(QFT(n).inverse())\n",
    "    return QFT_dagger_matrix.data\n",
    "\n",
    "QFT_dagger_matrix(n)"
   ]
  },
  {
   "cell_type": "code",
   "execution_count": 141,
   "metadata": {},
   "outputs": [
    {
     "data": {
      "text/plain": [
       "array([ 1.00000000e+00+0.00000000e+00j,  3.01201148e-18-8.28500202e-18j,\n",
       "        2.53663409e-18-2.53663409e-18j, -1.18165311e-17-3.21173384e-18j,\n",
       "        0.00000000e+00+0.00000000e+00j, -1.32468283e-17+3.21173384e-18j,\n",
       "        2.53663409e-18+2.53663409e-18j,  4.44230866e-18+8.28500202e-18j])"
      ]
     },
     "execution_count": 141,
     "metadata": {},
     "output_type": "execute_result"
    }
   ],
   "source": [
    "def QFT_dagger(psi):\n",
    "    return QFT_dagger_matrix(n).dot(psi)\n",
    "\n",
    "QFT_dagger(psi)"
   ]
  },
  {
   "cell_type": "code",
   "execution_count": 165,
   "metadata": {},
   "outputs": [
    {
     "data": {
      "image/png": "[encoded data removed]",
      "text/plain": [
       "<Figure size 454.719x284.278 with 1 Axes>"
      ]
     },
     "execution_count": 165,
     "metadata": {},
     "output_type": "execute_result"
    }
   ],
   "source": [
    "def QFT_dagger_circuit(n):\n",
    "    qc_QFT_dagger = QuantumCircuit(n)\n",
    "    qc_QFT_dagger.append(QFT(n).inverse(), range(n))\n",
    "    return qc_QFT_dagger\n",
    "\n",
    "qc_QFT_dagger = QFT_dagger_circuit(n)\n",
    "qc_QFT_dagger.save_statevector()\n",
    "qc_QFT_dagger.draw('mpl')"
   ]
  },
  {
   "cell_type": "code",
   "execution_count": 166,
   "metadata": {},
   "outputs": [
    {
     "data": {
      "text/latex": [
       "$${\\ket{\\psi} = }\\frac{\\sqrt{2}}{4} |000\\rangle+\\frac{\\sqrt{2}}{4} |001\\rangle+\\frac{\\sqrt{2}}{4} |010\\rangle+\\frac{\\sqrt{2}}{4} |011\\rangle+\\frac{\\sqrt{2}}{4} |100\\rangle+\\frac{\\sqrt{2}}{4} |101\\rangle+\\frac{\\sqrt{2}}{4} |110\\rangle+\\frac{\\sqrt{2}}{4} |111\\rangle$$"
      ],
      "text/plain": [
       "<IPython.core.display.Latex object>"
      ]
     },
     "execution_count": 166,
     "metadata": {},
     "output_type": "execute_result"
    }
   ],
   "source": [
    "res = simulator.run(transpile(qc_QFT_dagger,simulator)).result()\n",
    "psi_dagger = res.get_statevector()\n",
    "psi_dagger.draw('latex', prefix='{\\\\ket{\\\\psi} = }')"
   ]
  },
  {
   "cell_type": "code",
   "execution_count": 167,
   "metadata": {},
   "outputs": [
    {
     "name": "stdout",
     "output_type": "stream",
     "text": [
      "[[ 3.53553391e-01+0.j          3.53553391e-01+0.j\n",
      "   3.53553391e-01+0.j          3.53553391e-01+0.j\n",
      "   3.53553391e-01+0.j          3.53553391e-01+0.j\n",
      "   3.53553391e-01+0.j          3.53553391e-01+0.j        ]\n",
      " [ 3.53553391e-01+0.j          2.50000000e-01-0.25j\n",
      "   2.16489014e-17-0.35355339j -2.50000000e-01-0.25j\n",
      "  -3.53553391e-01+0.j         -2.50000000e-01+0.25j\n",
      "  -2.16489014e-17+0.35355339j  2.50000000e-01+0.25j      ]\n",
      " [ 3.53553391e-01+0.j          2.16489014e-17-0.35355339j\n",
      "  -3.53553391e-01+0.j         -2.16489014e-17+0.35355339j\n",
      "   3.53553391e-01+0.j          2.16489014e-17-0.35355339j\n",
      "  -3.53553391e-01+0.j         -2.16489014e-17+0.35355339j]\n",
      " [ 3.53553391e-01+0.j         -2.50000000e-01-0.25j\n",
      "  -2.16489014e-17+0.35355339j  2.50000000e-01-0.25j\n",
      "  -3.53553391e-01+0.j          2.50000000e-01+0.25j\n",
      "   2.16489014e-17-0.35355339j -2.50000000e-01+0.25j      ]\n",
      " [ 3.53553391e-01+0.j         -3.53553391e-01+0.j\n",
      "   3.53553391e-01+0.j         -3.53553391e-01+0.j\n",
      "   3.53553391e-01+0.j         -3.53553391e-01+0.j\n",
      "   3.53553391e-01+0.j         -3.53553391e-01+0.j        ]\n",
      " [ 3.53553391e-01+0.j         -2.50000000e-01+0.25j\n",
      "   2.16489014e-17-0.35355339j  2.50000000e-01+0.25j\n",
      "  -3.53553391e-01+0.j          2.50000000e-01-0.25j\n",
      "  -2.16489014e-17+0.35355339j -2.50000000e-01-0.25j      ]\n",
      " [ 3.53553391e-01+0.j         -2.16489014e-17+0.35355339j\n",
      "  -3.53553391e-01+0.j          2.16489014e-17-0.35355339j\n",
      "   3.53553391e-01+0.j         -2.16489014e-17+0.35355339j\n",
      "  -3.53553391e-01+0.j          2.16489014e-17-0.35355339j]\n",
      " [ 3.53553391e-01+0.j          2.50000000e-01+0.25j\n",
      "  -2.16489014e-17+0.35355339j -2.50000000e-01+0.25j\n",
      "  -3.53553391e-01+0.j         -2.50000000e-01-0.25j\n",
      "   2.16489014e-17-0.35355339j  2.50000000e-01-0.25j      ]]\n"
     ]
    }
   ],
   "source": [
    "IQFT_matrix = qi.Operator(QFT(n).inverse())\n",
    "print(IQFT_matrix.data)"
   ]
  },
  {
   "cell_type": "code",
   "execution_count": 168,
   "metadata": {},
   "outputs": [
    {
     "data": {
      "image/png": "[encoded data removed]",
      "text/plain": [
       "<Figure size 1207.22x284.278 with 1 Axes>"
      ]
     },
     "execution_count": 168,
     "metadata": {},
     "output_type": "execute_result"
    }
   ],
   "source": [
    "def IQFT_custom(n):\n",
    "    qc_IQFT_custom = QuantumCircuit(n, name='IQFT')\n",
    "    for i in range(n//2):\n",
    "        qc_IQFT_custom.swap(i,n-i-1)\n",
    "\n",
    "    for i in range(n):\n",
    "        qc_IQFT_custom.h(i)\n",
    "        for j in range(i+1,n):\n",
    "            qc_IQFT_custom.cp(-np.pi/2**(j-i),j,i)\n",
    "\n",
    "\n",
    "\n",
    "    return qc_IQFT_custom\n",
    "\n",
    "qc_IQFT_custom = IQFT_custom(n)\n",
    "\n",
    "qc_IQFT_custom.save_statevector()\n",
    "qc_IQFT_custom.draw('mpl', filename='../images/iqft_custom.png')"
   ]
  },
  {
   "cell_type": "code",
   "execution_count": 169,
   "metadata": {},
   "outputs": [
    {
     "data": {
      "text/latex": [
       "$${\\ket{\\psi} = }\\frac{\\sqrt{2}}{4} |000\\rangle+\\frac{\\sqrt{2}}{4} |001\\rangle+\\frac{\\sqrt{2}}{4} |010\\rangle+\\frac{\\sqrt{2}}{4} |011\\rangle+\\frac{\\sqrt{2}}{4} |100\\rangle+\\frac{\\sqrt{2}}{4} |101\\rangle+\\frac{\\sqrt{2}}{4} |110\\rangle+\\frac{\\sqrt{2}}{4} |111\\rangle$$"
      ],
      "text/plain": [
       "<IPython.core.display.Latex object>"
      ]
     },
     "execution_count": 169,
     "metadata": {},
     "output_type": "execute_result"
    }
   ],
   "source": [
    "result = simulator.run(transpile(qc_IQFT_custom,simulator)).result()\n",
    "psi_iqft_custom = result.get_statevector()\n",
    "psi_iqft_custom.draw('latex', prefix='{\\\\ket{\\\\psi} = }')"
   ]
  },
  {
   "cell_type": "code",
   "execution_count": 170,
   "metadata": {},
   "outputs": [
    {
     "name": "stdout",
     "output_type": "stream",
     "text": [
      "[[ 3.53553391e-01+0.j          3.53553391e-01+0.j\n",
      "   3.53553391e-01+0.j          3.53553391e-01+0.j\n",
      "   3.53553391e-01+0.j          3.53553391e-01+0.j\n",
      "   3.53553391e-01+0.j          3.53553391e-01+0.j        ]\n",
      " [ 3.53553391e-01+0.j          2.50000000e-01-0.25j\n",
      "   2.16489014e-17-0.35355339j -2.50000000e-01-0.25j\n",
      "  -3.53553391e-01+0.j         -2.50000000e-01+0.25j\n",
      "  -2.16489014e-17+0.35355339j  2.50000000e-01+0.25j      ]\n",
      " [ 3.53553391e-01+0.j          2.16489014e-17-0.35355339j\n",
      "  -3.53553391e-01+0.j         -2.16489014e-17+0.35355339j\n",
      "   3.53553391e-01+0.j          2.16489014e-17-0.35355339j\n",
      "  -3.53553391e-01+0.j         -2.16489014e-17+0.35355339j]\n",
      " [ 3.53553391e-01+0.j         -2.50000000e-01-0.25j\n",
      "  -2.16489014e-17+0.35355339j  2.50000000e-01-0.25j\n",
      "  -3.53553391e-01+0.j          2.50000000e-01+0.25j\n",
      "   2.16489014e-17-0.35355339j -2.50000000e-01+0.25j      ]\n",
      " [ 3.53553391e-01+0.j         -3.53553391e-01+0.j\n",
      "   3.53553391e-01+0.j         -3.53553391e-01+0.j\n",
      "   3.53553391e-01+0.j         -3.53553391e-01+0.j\n",
      "   3.53553391e-01+0.j         -3.53553391e-01+0.j        ]\n",
      " [ 3.53553391e-01+0.j         -2.50000000e-01+0.25j\n",
      "   2.16489014e-17-0.35355339j  2.50000000e-01+0.25j\n",
      "  -3.53553391e-01+0.j          2.50000000e-01-0.25j\n",
      "  -2.16489014e-17+0.35355339j -2.50000000e-01-0.25j      ]\n",
      " [ 3.53553391e-01+0.j         -2.16489014e-17+0.35355339j\n",
      "  -3.53553391e-01+0.j          2.16489014e-17-0.35355339j\n",
      "   3.53553391e-01+0.j         -2.16489014e-17+0.35355339j\n",
      "  -3.53553391e-01+0.j          2.16489014e-17-0.35355339j]\n",
      " [ 3.53553391e-01+0.j          2.50000000e-01+0.25j\n",
      "  -2.16489014e-17+0.35355339j -2.50000000e-01+0.25j\n",
      "  -3.53553391e-01+0.j         -2.50000000e-01-0.25j\n",
      "   2.16489014e-17-0.35355339j  2.50000000e-01-0.25j      ]]\n"
     ]
    }
   ],
   "source": [
    "IQFT_custom_matrix = qi.Operator(IQFT_custom(n))\n",
    "print(IQFT_custom_matrix.data)"
   ]
  }
 ],
 "metadata": {
  "kernelspec": {
   "display_name": "Python 3",
   "language": "python",
   "name": "python3"
  },
  "language_info": {
   "codemirror_mode": {
    "name": "ipython",
    "version": 3
   },
   "file_extension": ".py",
   "mimetype": "text/x-python",
   "name": "python",
   "nbconvert_exporter": "python",
   "pygments_lexer": "ipython3",
   "version": "3.12.4"
  }
 },
 "nbformat": 4,
 "nbformat_minor": 2
}
